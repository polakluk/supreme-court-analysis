{
 "cells": [
  {
   "cell_type": "code",
   "execution_count": 1,
   "metadata": {
    "collapsed": true
   },
   "outputs": [],
   "source": [
    "import pandas as pd\n",
    "import numpy as np\n",
    "from nltk import word_tokenize\n",
    "from nltk.stem.snowball import SnowballStemmer\n",
    "import time\n",
    "import string\n",
    "\n",
    "from tools.parsers import generalinquirer as generalInquirerParser\n",
    "from tools.parsers import largemoviereviews as largeMovieReviewsParser\n",
    "from tools.parsers import generalinquirer as generalInquirerParser\n",
    "from tools.parsers import negation as negationParser \n",
    "\n",
    "from tools.sentimentanalysis import preparation"
   ]
  },
  {
   "cell_type": "code",
   "execution_count": 2,
   "metadata": {
    "collapsed": true
   },
   "outputs": [],
   "source": [
    "prepData = preparation.Preparation()\n",
    "parserInquirer = generalInquirerParser.GeneralInquirer()\n",
    "parserNegation = negationParser.Negation()\n",
    "parserMovieReviews = largeMovieReviewsParser.LargeMovieReviews()"
   ]
  },
  {
   "cell_type": "code",
   "execution_count": 28,
   "metadata": {
    "collapsed": true
   },
   "outputs": [],
   "source": [
    "sentencesMpqa = parserInquirer.readFileCsv(prepData.defaultFileNameSentimentSentencesNormalized)\n",
    "negations = parserNegation.readFileCsv(parserNegation.defaultFileNameProcessed)"
   ]
  },
  {
   "cell_type": "code",
   "execution_count": 29,
   "metadata": {
    "collapsed": true
   },
   "outputs": [],
   "source": [
    "non_english_text = ['im_401b_e73i32c22_031705-2', 'IZ-060316-01-Trans-1', '20000815_AFP_ARB.0084.IBM-HA-NEW', 'NapierDianne']\n",
    "polarizedSentencesMpqa = sentencesMpqa[sentencesMpqa['sentiment-type'] == 0]\n",
    "polarizedSentencesMpqa = polarizedSentencesMpqa[np.invert(polarizedSentencesMpqa['docName'].isin(non_english_text))]"
   ]
  },
  {
   "cell_type": "code",
   "execution_count": 30,
   "metadata": {
    "collapsed": true
   },
   "outputs": [],
   "source": [
    "def infoDf(df, col):\n",
    "    print(\"Negative: {}\".format(df[df[col] < 0.0].shape))\n",
    "    print(\"Neutral: {}\".format(df[df[col] == 0.0].shape))\n",
    "    print(\"Positive: {}\".format(df[df[col] > 0.0].shape))"
   ]
  },
  {
   "cell_type": "code",
   "execution_count": 31,
   "metadata": {
    "collapsed": false
   },
   "outputs": [
    {
     "name": "stdout",
     "output_type": "stream",
     "text": [
      "Negative: (3133, 12)\n",
      "Neutral: (2071, 12)\n",
      "Positive: (2692, 12)\n"
     ]
    }
   ],
   "source": [
    "infoDf(polarizedSentencesMpqa, 'sentiment-intensity')"
   ]
  },
  {
   "cell_type": "code",
   "execution_count": 7,
   "metadata": {
    "collapsed": false
   },
   "outputs": [
    {
     "name": "stdout",
     "output_type": "stream",
     "text": [
      "Negative: (836, 12)\n",
      "Neutral: (2071, 12)\n",
      "Positive: (2692, 12)\n"
     ]
    }
   ],
   "source": [
    "infoDf(polarizedSentencesMpqa, 'sentiment-intensity')"
   ]
  },
  {
   "cell_type": "code",
   "execution_count": null,
   "metadata": {
    "collapsed": true
   },
   "outputs": [],
   "source": []
  }
 ],
 "metadata": {
  "kernelspec": {
   "display_name": "Python 2",
   "language": "python",
   "name": "python2"
  },
  "language_info": {
   "codemirror_mode": {
    "name": "ipython",
    "version": 2
   },
   "file_extension": ".py",
   "mimetype": "text/x-python",
   "name": "python",
   "nbconvert_exporter": "python",
   "pygments_lexer": "ipython2",
   "version": "2.7.11"
  }
 },
 "nbformat": 4,
 "nbformat_minor": 0
}
