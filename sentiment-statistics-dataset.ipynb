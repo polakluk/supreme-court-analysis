{
 "cells": [
  {
   "cell_type": "code",
   "execution_count": 2,
   "metadata": {
    "collapsed": false
   },
   "outputs": [],
   "source": [
    "import string\n",
    "import pandas as pd\n",
    "import numpy as np\n",
    "from nltk import word_tokenize\n",
    "import matplotlib.pyplot as plt\n",
    "plt.style.use('ggplot')"
   ]
  },
  {
   "cell_type": "code",
   "execution_count": 5,
   "metadata": {
    "collapsed": false
   },
   "outputs": [],
   "source": [
    "with open('./corpora/processed/mpqa-sentences.csv', 'r') as f:\n",
    "    df = pd.read_csv(f)"
   ]
  },
  {
   "cell_type": "code",
   "execution_count": 6,
   "metadata": {
    "collapsed": false
   },
   "outputs": [
    {
     "data": {
      "text/plain": [
       "(15802, 8)"
      ]
     },
     "execution_count": 6,
     "metadata": {},
     "output_type": "execute_result"
    }
   ],
   "source": [
    "df.shape"
   ]
  },
  {
   "cell_type": "code",
   "execution_count": 7,
   "metadata": {
    "collapsed": false
   },
   "outputs": [
    {
     "data": {
      "text/plain": [
       "Index([u'docName', u'dirName', u'idx', u'startByte', u'endByte', u'sentLen',\n",
       "       u'annotsCount', u'text'],\n",
       "      dtype='object')"
      ]
     },
     "execution_count": 7,
     "metadata": {},
     "output_type": "execute_result"
    }
   ],
   "source": [
    "df.columns"
   ]
  },
  {
   "cell_type": "code",
   "execution_count": 63,
   "metadata": {
    "collapsed": false
   },
   "outputs": [],
   "source": [
    "annotCounts = df[df['annotsCount']>0]['annotsCount'].value_counts()\n",
    "annotsDf = pd.DataFrame( zip(annotCounts.index, annotCounts.values), columns=['Count', 'Frequency'])"
   ]
  },
  {
   "cell_type": "code",
   "execution_count": 79,
   "metadata": {
    "collapsed": false
   },
   "outputs": [],
   "source": [
    "annotsDf.sort_values(by='Count', inplace=True, ascending=True)\n",
    "annotsDf['Count'] = annotsDf['Count'].astype(int)\n",
    "annotsDf.index = annotsDf['Count'].values"
   ]
  },
  {
   "cell_type": "code",
   "execution_count": 109,
   "metadata": {
    "collapsed": false
   },
   "outputs": [
    {
     "data": {
      "text/plain": [
       "<matplotlib.figure.Figure at 0x1d9d7ef0>"
      ]
     },
     "execution_count": 109,
     "metadata": {},
     "output_type": "execute_result"
    }
   ],
   "source": [
    "plt.figure()"
   ]
  },
  {
   "cell_type": "code",
   "execution_count": 160,
   "metadata": {
    "collapsed": false
   },
   "outputs": [
    {
     "data": {
      "text/plain": [
       "<matplotlib.text.Text at 0x28e72be0>"
      ]
     },
     "execution_count": 160,
     "metadata": {},
     "output_type": "execute_result"
    }
   ],
   "source": [
    "plt.xlabel('Number of annotations per sentence')\n",
    "plt.ylabel('Frequency in dataset (log scale)')\n",
    "plt.ylim([annotsDf['Frequency'].min(), annotsDf['Frequency'].max()])\n",
    "plt.axvline(9.5, color='b', linestyle='--')\n",
    "plt.text(10, 1500, 'Cut-off boundary', fontsize=14)"
   ]
  },
  {
   "cell_type": "code",
   "execution_count": 161,
   "metadata": {
    "collapsed": false
   },
   "outputs": [
    {
     "data": {
      "text/plain": [
       "<matplotlib.axes._subplots.AxesSubplot at 0x28e4cd68>"
      ]
     },
     "execution_count": 161,
     "metadata": {},
     "output_type": "execute_result"
    }
   ],
   "source": [
    "annotsDf['Frequency'].plot \\\n",
    "                    .bar(logy=True, rot=0)"
   ]
  },
  {
   "cell_type": "code",
   "execution_count": 162,
   "metadata": {
    "collapsed": false
   },
   "outputs": [],
   "source": [
    "plt.show()"
   ]
  },
  {
   "cell_type": "code",
   "execution_count": 148,
   "metadata": {
    "collapsed": false
   },
   "outputs": [
    {
     "data": {
      "text/plain": [
       "0.019621870209504344"
      ]
     },
     "execution_count": 148,
     "metadata": {},
     "output_type": "execute_result"
    }
   ],
   "source": [
    "float(annotsDf[annotsDf['Frequency'] < 100]['Frequency'].sum()) / annotsDf['Frequency'].sum()"
   ]
  },
  {
   "cell_type": "code",
   "execution_count": 149,
   "metadata": {
    "collapsed": false
   },
   "outputs": [
    {
     "data": {
      "text/plain": [
       "192L"
      ]
     },
     "execution_count": 149,
     "metadata": {},
     "output_type": "execute_result"
    }
   ],
   "source": [
    "annotsDf[annotsDf['Frequency'] < 100]['Frequency'].sum()"
   ]
  },
  {
   "cell_type": "code",
   "execution_count": 196,
   "metadata": {
    "collapsed": false
   },
   "outputs": [
    {
     "data": {
      "text/html": [
       "<div>\n",
       "<table border=\"1\" class=\"dataframe\">\n",
       "  <thead>\n",
       "    <tr style=\"text-align: right;\">\n",
       "      <th></th>\n",
       "      <th>docName</th>\n",
       "      <th>dirName</th>\n",
       "      <th>idx</th>\n",
       "      <th>startByte</th>\n",
       "      <th>endByte</th>\n",
       "      <th>sentLen</th>\n",
       "      <th>annotsCount</th>\n",
       "      <th>text</th>\n",
       "    </tr>\n",
       "  </thead>\n",
       "  <tbody>\n",
       "    <tr>\n",
       "      <th>13676</th>\n",
       "      <td>im_401b_e73i32c22_031705-2</td>\n",
       "      <td>ula</td>\n",
       "      <td>59</td>\n",
       "      <td>2130</td>\n",
       "      <td>2131</td>\n",
       "      <td>1.0</td>\n",
       "      <td>0.0</td>\n",
       "      <td>0</td>\n",
       "    </tr>\n",
       "    <tr>\n",
       "      <th>14536</th>\n",
       "      <td>sw2078-UTF16-ms98-a-trans</td>\n",
       "      <td>ula</td>\n",
       "      <td>133</td>\n",
       "      <td>9378</td>\n",
       "      <td>9379</td>\n",
       "      <td>1.0</td>\n",
       "      <td>0.0</td>\n",
       "      <td>i</td>\n",
       "    </tr>\n",
       "    <tr>\n",
       "      <th>14835</th>\n",
       "      <td>wsj_0160</td>\n",
       "      <td>xbank</td>\n",
       "      <td>0</td>\n",
       "      <td>740</td>\n",
       "      <td>741</td>\n",
       "      <td>1.0</td>\n",
       "      <td>0.0</td>\n",
       "      <td>\"</td>\n",
       "    </tr>\n",
       "    <tr>\n",
       "      <th>15466</th>\n",
       "      <td>wsj_0768</td>\n",
       "      <td>xbank</td>\n",
       "      <td>20</td>\n",
       "      <td>4935</td>\n",
       "      <td>4936</td>\n",
       "      <td>1.0</td>\n",
       "      <td>0.0</td>\n",
       "      <td>\"</td>\n",
       "    </tr>\n",
       "  </tbody>\n",
       "</table>\n",
       "</div>"
      ],
      "text/plain": [
       "                          docName dirName  idx  startByte  endByte  sentLen  \\\n",
       "13676  im_401b_e73i32c22_031705-2     ula   59       2130     2131      1.0   \n",
       "14536   sw2078-UTF16-ms98-a-trans     ula  133       9378     9379      1.0   \n",
       "14835                    wsj_0160   xbank    0        740      741      1.0   \n",
       "15466                    wsj_0768   xbank   20       4935     4936      1.0   \n",
       "\n",
       "       annotsCount text  \n",
       "13676          0.0    0  \n",
       "14536          0.0    i  \n",
       "14835          0.0    \"  \n",
       "15466          0.0    \"  "
      ]
     },
     "execution_count": 196,
     "metadata": {},
     "output_type": "execute_result"
    }
   ],
   "source": [
    "df[df['sentLen'] < 2]"
   ]
  },
  {
   "cell_type": "code",
   "execution_count": 202,
   "metadata": {
    "collapsed": false
   },
   "outputs": [],
   "source": [
    "def wordCount(row):\n",
    "    row['wordCount'] = len(word_tokenize(str(row['text']).translate(None, string.punctuation).strip()))\n",
    "    return row"
   ]
  },
  {
   "cell_type": "code",
   "execution_count": 203,
   "metadata": {
    "collapsed": false
   },
   "outputs": [],
   "source": [
    "dfWC = df[df['annotsCount'] > 10].apply(lambda row: wordCount(row), axis=1)\n",
    "df = df.apply(lambda row: wordCount(row), axis=1)"
   ]
  },
  {
   "cell_type": "code",
   "execution_count": 265,
   "metadata": {
    "collapsed": false,
    "scrolled": true
   },
   "outputs": [
    {
     "data": {
      "text/plain": [
       "0.0     200\n",
       "4.0     111\n",
       "2.0     104\n",
       "5.0     103\n",
       "3.0     102\n",
       "6.0      76\n",
       "7.0      70\n",
       "1.0      59\n",
       "8.0      56\n",
       "9.0      36\n",
       "10.0     31\n",
       "11.0     16\n",
       "13.0     13\n",
       "12.0     11\n",
       "14.0      8\n",
       "15.0      8\n",
       "17.0      4\n",
       "16.0      2\n",
       "18.0      2\n",
       "21.0      1\n",
       "19.0      1\n",
       "30.0      1\n",
       "Name: annotsCount, dtype: int64"
      ]
     },
     "execution_count": 265,
     "metadata": {},
     "output_type": "execute_result"
    }
   ],
   "source": [
    "df[(df['wordCount'] > 40) & (df['wordCount'] < 61)]['annotsCount'].value_counts()"
   ]
  },
  {
   "cell_type": "code",
   "execution_count": 278,
   "metadata": {
    "collapsed": false
   },
   "outputs": [
    {
     "data": {
      "text/plain": [
       "8.0"
      ]
     },
     "execution_count": 278,
     "metadata": {},
     "output_type": "execute_result"
    }
   ],
   "source": [
    "df[(df['annotsCount'] > 1) & (df['wordCount'] > 30) & (df['wordCount'] < 41)]['annotsCount'].quantile(0.9)"
   ]
  },
  {
   "cell_type": "code",
   "execution_count": 255,
   "metadata": {
    "collapsed": false
   },
   "outputs": [],
   "source": [
    "df3142 = df[(df['wordCount'] > 31) & (df['annotsCount'] > 0)]['wordCount'].value_counts()"
   ]
  },
  {
   "cell_type": "code",
   "execution_count": 1,
   "metadata": {
    "collapsed": false,
    "scrolled": true
   },
   "outputs": [
    {
     "ename": "NameError",
     "evalue": "name 'pd' is not defined",
     "output_type": "error",
     "traceback": [
      "\u001b[1;31m---------------------------------------------------------------------------\u001b[0m",
      "\u001b[1;31mNameError\u001b[0m                                 Traceback (most recent call last)",
      "\u001b[1;32m<ipython-input-1-fee7d4dd2993>\u001b[0m in \u001b[0;36m<module>\u001b[1;34m()\u001b[0m\n\u001b[1;32m----> 1\u001b[1;33m \u001b[0mdf3142Graph\u001b[0m \u001b[1;33m=\u001b[0m \u001b[0mpd\u001b[0m\u001b[1;33m.\u001b[0m\u001b[0mDataFrame\u001b[0m\u001b[1;33m(\u001b[0m\u001b[0mzip\u001b[0m\u001b[1;33m(\u001b[0m\u001b[0mdf3142\u001b[0m\u001b[1;33m.\u001b[0m\u001b[0mindex\u001b[0m\u001b[1;33m,\u001b[0m \u001b[0mdf3142\u001b[0m\u001b[1;33m.\u001b[0m\u001b[0mvalues\u001b[0m\u001b[1;33m)\u001b[0m\u001b[1;33m,\u001b[0m \u001b[0mcolumns\u001b[0m\u001b[1;33m=\u001b[0m\u001b[1;33m[\u001b[0m\u001b[1;34m'Words'\u001b[0m\u001b[1;33m,\u001b[0m \u001b[1;34m'Occureces'\u001b[0m\u001b[1;33m]\u001b[0m\u001b[1;33m)\u001b[0m\u001b[1;33m\u001b[0m\u001b[0m\n\u001b[0m",
      "\u001b[1;31mNameError\u001b[0m: name 'pd' is not defined"
     ]
    }
   ],
   "source": [
    "df3142Graph = pd.DataFrame(zip(df3142.index, df3142.values), columns=['Words', 'Occureces'])"
   ]
  },
  {
   "cell_type": "code",
   "execution_count": 279,
   "metadata": {
    "collapsed": false
   },
   "outputs": [],
   "source": [
    "plt.figure()\n",
    "plt.xlabel('Number of words per sentence')\n",
    "plt.ylabel('Frequenct of occurence in dataset')\n",
    "plt.ylim([df3142Graph['Occureces'].min(), df3142Graph['Occureces'].sum()*1.1])\n",
    "df3142Graph['Occureces'].cumsum().plot \\\n",
    "                    .line(rot=0, linewidth=2)\n",
    "plt.show()"
   ]
  },
  {
   "cell_type": "code",
   "execution_count": 284,
   "metadata": {
    "collapsed": false
   },
   "outputs": [
    {
     "data": {
      "text/plain": [
       "(7113, 9)"
      ]
     },
     "execution_count": 284,
     "metadata": {},
     "output_type": "execute_result"
    }
   ],
   "source": [
    "df[(df['annotsCount'] > 0) & (df['wordCount'] < 31)].shape"
   ]
  },
  {
   "cell_type": "code",
   "execution_count": 159,
   "metadata": {
    "collapsed": false
   },
   "outputs": [
    {
     "data": {
      "text/html": [
       "<div>\n",
       "<table border=\"1\" class=\"dataframe\">\n",
       "  <thead>\n",
       "    <tr style=\"text-align: right;\">\n",
       "      <th></th>\n",
       "      <th>idx</th>\n",
       "      <th>startByte</th>\n",
       "      <th>endByte</th>\n",
       "      <th>sentLen</th>\n",
       "      <th>annotsCount</th>\n",
       "      <th>wordCount</th>\n",
       "    </tr>\n",
       "  </thead>\n",
       "  <tbody>\n",
       "    <tr>\n",
       "      <th>count</th>\n",
       "      <td>192.000000</td>\n",
       "      <td>192.000000</td>\n",
       "      <td>192.000000</td>\n",
       "      <td>192.000000</td>\n",
       "      <td>192.000000</td>\n",
       "      <td>192.000000</td>\n",
       "    </tr>\n",
       "    <tr>\n",
       "      <th>mean</th>\n",
       "      <td>13.598958</td>\n",
       "      <td>2276.255208</td>\n",
       "      <td>2541.786458</td>\n",
       "      <td>265.531250</td>\n",
       "      <td>12.869792</td>\n",
       "      <td>48.229167</td>\n",
       "    </tr>\n",
       "    <tr>\n",
       "      <th>std</th>\n",
       "      <td>15.970870</td>\n",
       "      <td>1808.325447</td>\n",
       "      <td>1820.174795</td>\n",
       "      <td>96.165319</td>\n",
       "      <td>2.612640</td>\n",
       "      <td>17.455691</td>\n",
       "    </tr>\n",
       "    <tr>\n",
       "      <th>min</th>\n",
       "      <td>0.000000</td>\n",
       "      <td>2.000000</td>\n",
       "      <td>205.000000</td>\n",
       "      <td>126.000000</td>\n",
       "      <td>11.000000</td>\n",
       "      <td>24.000000</td>\n",
       "    </tr>\n",
       "    <tr>\n",
       "      <th>25%</th>\n",
       "      <td>4.000000</td>\n",
       "      <td>924.500000</td>\n",
       "      <td>1167.000000</td>\n",
       "      <td>196.500000</td>\n",
       "      <td>11.000000</td>\n",
       "      <td>35.000000</td>\n",
       "    </tr>\n",
       "    <tr>\n",
       "      <th>50%</th>\n",
       "      <td>9.000000</td>\n",
       "      <td>1866.500000</td>\n",
       "      <td>2128.000000</td>\n",
       "      <td>245.500000</td>\n",
       "      <td>12.000000</td>\n",
       "      <td>45.000000</td>\n",
       "    </tr>\n",
       "    <tr>\n",
       "      <th>75%</th>\n",
       "      <td>18.000000</td>\n",
       "      <td>3225.500000</td>\n",
       "      <td>3467.250000</td>\n",
       "      <td>317.250000</td>\n",
       "      <td>14.000000</td>\n",
       "      <td>58.000000</td>\n",
       "    </tr>\n",
       "    <tr>\n",
       "      <th>max</th>\n",
       "      <td>129.000000</td>\n",
       "      <td>8179.000000</td>\n",
       "      <td>8588.000000</td>\n",
       "      <td>893.000000</td>\n",
       "      <td>30.000000</td>\n",
       "      <td>161.000000</td>\n",
       "    </tr>\n",
       "  </tbody>\n",
       "</table>\n",
       "</div>"
      ],
      "text/plain": [
       "              idx    startByte      endByte     sentLen  annotsCount  \\\n",
       "count  192.000000   192.000000   192.000000  192.000000   192.000000   \n",
       "mean    13.598958  2276.255208  2541.786458  265.531250    12.869792   \n",
       "std     15.970870  1808.325447  1820.174795   96.165319     2.612640   \n",
       "min      0.000000     2.000000   205.000000  126.000000    11.000000   \n",
       "25%      4.000000   924.500000  1167.000000  196.500000    11.000000   \n",
       "50%      9.000000  1866.500000  2128.000000  245.500000    12.000000   \n",
       "75%     18.000000  3225.500000  3467.250000  317.250000    14.000000   \n",
       "max    129.000000  8179.000000  8588.000000  893.000000    30.000000   \n",
       "\n",
       "        wordCount  \n",
       "count  192.000000  \n",
       "mean    48.229167  \n",
       "std     17.455691  \n",
       "min     24.000000  \n",
       "25%     35.000000  \n",
       "50%     45.000000  \n",
       "75%     58.000000  \n",
       "max    161.000000  "
      ]
     },
     "execution_count": 159,
     "metadata": {},
     "output_type": "execute_result"
    }
   ],
   "source": [
    "dfWC.describe()"
   ]
  },
  {
   "cell_type": "code",
   "execution_count": 167,
   "metadata": {
    "collapsed": false
   },
   "outputs": [
    {
     "data": {
      "text/plain": [
       "11.0    12\n",
       "12.0     9\n",
       "13.0     6\n",
       "14.0     5\n",
       "15.0     4\n",
       "17.0     3\n",
       "16.0     3\n",
       "21.0     2\n",
       "18.0     2\n",
       "30.0     1\n",
       "26.0     1\n",
       "22.0     1\n",
       "Name: annotsCount, dtype: int64"
      ]
     },
     "execution_count": 167,
     "metadata": {},
     "output_type": "execute_result"
    }
   ],
   "source": [
    "dfWC[dfWC['wordCount'] > 57]['annotsCount'].value_counts()"
   ]
  },
  {
   "cell_type": "code",
   "execution_count": 289,
   "metadata": {
    "collapsed": false
   },
   "outputs": [],
   "source": [
    "from tools.parsers.corpora_sentiment import generalinquirer as generalInquirerParser\n",
    "from tools.parsers.corpora_sentiment import largemoviereviews as largeMovieReviewsParser\n",
    "from tools.parsers.corpora_sentiment import generalinquirer as generalInquirerParser\n",
    "from tools.parsers.corpora_sentiment import negation as negationParser \n",
    "\n",
    "from tools.sentimentanalysis import preparation"
   ]
  },
  {
   "cell_type": "code",
   "execution_count": 290,
   "metadata": {
    "collapsed": false
   },
   "outputs": [],
   "source": [
    "prepData = preparation.Preparation()\n",
    "parserInquirer = generalInquirerParser.GeneralInquirer()\n",
    "sentencesMpqa = parserInquirer.readFileCsv(prepData.defaultFileNameSentimentSentencesNormalized)\n",
    "non_english_text = ['im_401b_e73i32c22_031705-2', 'IZ-060316-01-Trans-1', '20000815_AFP_ARB.0084.IBM-HA-NEW', 'NapierDianne']"
   ]
  },
  {
   "cell_type": "code",
   "execution_count": 293,
   "metadata": {
    "collapsed": false
   },
   "outputs": [],
   "source": [
    "polarizedSentencesMpqa = sentencesMpqa[np.invert(sentencesMpqa['docName'].isin(non_english_text))]"
   ]
  },
  {
   "cell_type": "code",
   "execution_count": 297,
   "metadata": {
    "collapsed": false
   },
   "outputs": [
    {
     "data": {
      "text/plain": [
       "(7896, 12)"
      ]
     },
     "execution_count": 297,
     "metadata": {},
     "output_type": "execute_result"
    }
   ],
   "source": [
    "polarizedSentencesMpqa[(polarizedSentencesMpqa['sentiment-measured'] == 1) & (polarizedSentencesMpqa['sentiment-type'] == 0)].shape"
   ]
  },
  {
   "cell_type": "code",
   "execution_count": 298,
   "metadata": {
    "collapsed": false
   },
   "outputs": [
    {
     "data": {
      "text/plain": [
       "(7959, 12)"
      ]
     },
     "execution_count": 298,
     "metadata": {},
     "output_type": "execute_result"
    }
   ],
   "source": [
    "sentencesMpqa[(sentencesMpqa['sentiment-measured'] == 1) & (sentencesMpqa['sentiment-type'] == 0)].shape"
   ]
  },
  {
   "cell_type": "code",
   "execution_count": 308,
   "metadata": {
    "collapsed": true
   },
   "outputs": [],
   "source": [
    "sentencesMpqa = sentencesMpqa.apply(lambda row: wordCount(row), axis=1)"
   ]
  },
  {
   "cell_type": "code",
   "execution_count": 304,
   "metadata": {
    "collapsed": false
   },
   "outputs": [],
   "source": [
    "polarizedSentencesMpqa = polarizedSentencesMpqa.apply(lambda row: wordCount(row), axis=1)"
   ]
  },
  {
   "cell_type": "code",
   "execution_count": 310,
   "metadata": {
    "collapsed": true
   },
   "outputs": [],
   "source": [
    "def filterDf(df):\n",
    "    return df[(df['annotsCount'] > 0) & (df['wordCount'] < 31) & np.invert(df['docName'].isin(non_english_text))]"
   ]
  },
  {
   "cell_type": "code",
   "execution_count": 314,
   "metadata": {
    "collapsed": false
   },
   "outputs": [
    {
     "data": {
      "text/plain": [
       "(7040, 9)"
      ]
     },
     "execution_count": 314,
     "metadata": {},
     "output_type": "execute_result"
    }
   ],
   "source": [
    "filterDf(df).shape"
   ]
  },
  {
   "cell_type": "code",
   "execution_count": 329,
   "metadata": {
    "collapsed": true
   },
   "outputs": [],
   "source": [
    "with open('./corpora/processed/sentiment-sentences-norm.csv', 'r') as f:\n",
    "    dfSent = pd.read_csv(f)"
   ]
  },
  {
   "cell_type": "code",
   "execution_count": 330,
   "metadata": {
    "collapsed": false
   },
   "outputs": [],
   "source": [
    "dfSent=dfSent.apply(lambda row: wordCount(row), axis=1)"
   ]
  },
  {
   "cell_type": "code",
   "execution_count": 331,
   "metadata": {
    "collapsed": false
   },
   "outputs": [
    {
     "data": {
      "text/plain": [
       "(6856, 13)"
      ]
     },
     "execution_count": 331,
     "metadata": {},
     "output_type": "execute_result"
    }
   ],
   "source": [
    "filterDf(dfSent).shape"
   ]
  },
  {
   "cell_type": "code",
   "execution_count": 372,
   "metadata": {
    "collapsed": true
   },
   "outputs": [],
   "source": [
    "dfSentPos = filterDf(dfSent)"
   ]
  },
  {
   "cell_type": "code",
   "execution_count": 373,
   "metadata": {
    "collapsed": false
   },
   "outputs": [],
   "source": [
    "dfSentNeg = dfSentPos[dfSentPos['sentiment-intensity'] < 0].reset_index()\n",
    "dfSentPos = dfSentPos[dfSentPos['sentiment-intensity'] > 0].reset_index()"
   ]
  },
  {
   "cell_type": "code",
   "execution_count": 374,
   "metadata": {
    "collapsed": false
   },
   "outputs": [
    {
     "data": {
      "text/plain": [
       "(2613, 14)"
      ]
     },
     "execution_count": 374,
     "metadata": {},
     "output_type": "execute_result"
    }
   ],
   "source": [
    "dfSentPos.shape"
   ]
  },
  {
   "cell_type": "code",
   "execution_count": 379,
   "metadata": {
    "collapsed": false
   },
   "outputs": [],
   "source": [
    "valsPos = dfSentPos['sentiment-intensity'].value_counts()\n",
    "valsNeg = (-dfSentNeg['sentiment-intensity']).value_counts()\n",
    "\n",
    "dfSentPosFinal = pd.DataFrame(zip(valsPos.index, valsPos.values), columns=['Sentiment', 'Count'])\n",
    "dfSentNegFinal = pd.DataFrame(zip(valsNeg.index, valsNeg.values), columns=['Sentiment', 'Count'])"
   ]
  },
  {
   "cell_type": "code",
   "execution_count": 380,
   "metadata": {
    "collapsed": false
   },
   "outputs": [],
   "source": [
    "dfSentPosFinal.sort_values(by='Sentiment', ascending=True, inplace=True)\n",
    "dfSentPosFinal.index = dfSentPosFinal['Sentiment']\n",
    "\n",
    "dfSentNegFinal.sort_values(by='Sentiment', ascending=True, inplace=True)\n",
    "dfSentNegFinal.index = dfSentNegFinal['Sentiment']"
   ]
  },
  {
   "cell_type": "code",
   "execution_count": 388,
   "metadata": {
    "collapsed": false
   },
   "outputs": [],
   "source": [
    "fig, axes = plt.subplots(nrows=1, ncols=2)\n",
    "#plt.xlabel('Sentiment')\n",
    "#plt.ylim([df3142Graph['Occureces'].min(), df3142Graph['Occureces'].sum()*1.1])\n",
    "dfSentPosFinal['Count'].plot(ax=axes[0], sharex=False)\n",
    "axes[0].set_title(\"Positive\")\n",
    "axes[0].set_ylabel('Frequency of sentiment in dataset')\n",
    "\n",
    "dfSentNegFinal['Count'].plot(ax=axes[1])\n",
    "axes[1].set_title(\"Negative\")\n",
    "plt.ylabel('Frequency of sentiment in dataset')\n",
    "plt.show()"
   ]
  },
  {
   "cell_type": "code",
   "execution_count": 382,
   "metadata": {
    "collapsed": false,
    "scrolled": true
   },
   "outputs": [
    {
     "data": {
      "text/plain": [
       "960L"
      ]
     },
     "execution_count": 382,
     "metadata": {},
     "output_type": "execute_result"
    }
   ],
   "source": [
    "dfSentPosFinal[(dfSentPosFinal['Sentiment'] < 0.9) & (dfSentPosFinal['Sentiment'] > 0.7)]['Count'].sum()"
   ]
  },
  {
   "cell_type": "code",
   "execution_count": 231,
   "metadata": {
    "collapsed": false
   },
   "outputs": [
    {
     "data": {
      "text/plain": [
       "(3053, 9)"
      ]
     },
     "execution_count": 231,
     "metadata": {},
     "output_type": "execute_result"
    }
   ],
   "source": [
    "df[df['wordCount'] > 31].shape"
   ]
  }
 ],
 "metadata": {
  "kernelspec": {
   "display_name": "Python 2",
   "language": "python",
   "name": "python2"
  },
  "language_info": {
   "codemirror_mode": {
    "name": "ipython",
    "version": 2
   },
   "file_extension": ".py",
   "mimetype": "text/x-python",
   "name": "python",
   "nbconvert_exporter": "python",
   "pygments_lexer": "ipython2",
   "version": "2.7.12"
  }
 },
 "nbformat": 4,
 "nbformat_minor": 0
}
