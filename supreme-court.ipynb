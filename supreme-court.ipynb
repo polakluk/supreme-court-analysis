{
 "cells": [
  {
   "cell_type": "code",
   "execution_count": 1,
   "metadata": {
    "collapsed": true
   },
   "outputs": [],
   "source": [
    "import string\n",
    "import pandas as pd\n",
    "import numpy as np\n",
    "from nltk import word_tokenize\n",
    "import matplotlib.pyplot as plt\n",
    "plt.style.use('ggplot')"
   ]
  },
  {
   "cell_type": "code",
   "execution_count": 2,
   "metadata": {
    "collapsed": false
   },
   "outputs": [],
   "source": [
    "with open('./corpora/washington-law/justice_centered_docket_post2000.csv') as fMetadata:\n",
    "    dfAllMetadata = pd.read_csv(fMetadata)"
   ]
  },
  {
   "cell_type": "code",
   "execution_count": 3,
   "metadata": {
    "collapsed": false
   },
   "outputs": [
    {
     "data": {
      "text/plain": [
       "Index([u'caseId', u'docketId', u'caseIssuesId', u'voteId', u'dateDecision',\n",
       "       u'decisionType', u'usCite', u'sctCite', u'ledCite', u'lexisCite',\n",
       "       u'term', u'naturalCourt', u'chief', u'docket', u'caseName',\n",
       "       u'dateArgument', u'dateRearg', u'petitioner', u'petitionerState',\n",
       "       u'respondent', u'respondentState', u'jurisdiction', u'adminAction',\n",
       "       u'adminActionState', u'threeJudgeFdc', u'caseOrigin',\n",
       "       u'caseOriginState', u'caseSource', u'caseSourceState',\n",
       "       u'lcDisagreement', u'certReason', u'lcDisposition',\n",
       "       u'lcDispositionDirection', u'declarationUncon', u'caseDisposition',\n",
       "       u'caseDispositionUnusual', u'partyWinning', u'precedentAlteration',\n",
       "       u'voteUnclear', u'issue', u'issueArea', u'decisionDirection',\n",
       "       u'decisionDirectionDissent', u'authorityDecision1',\n",
       "       u'authorityDecision2', u'lawType', u'lawSupp', u'lawMinor',\n",
       "       u'majOpinWriter', u'majOpinAssigner', u'splitVote', u'majVotes',\n",
       "       u'minVotes', u'justice', u'justiceName', u'vote', u'opinion',\n",
       "       u'direction', u'majority', u'firstAgreement', u'secondAgreement'],\n",
       "      dtype='object')"
      ]
     },
     "execution_count": 3,
     "metadata": {},
     "output_type": "execute_result"
    }
   ],
   "source": [
    "dfAllMetadata.columns"
   ]
  },
  {
   "cell_type": "code",
   "execution_count": 4,
   "metadata": {
    "collapsed": false
   },
   "outputs": [],
   "source": [
    "relevantColumns = ['caseIssuesId', 'decisionType', 'petitioner', 'petitionerState', 'respondent', 'respondentState', 'jurisdiction',\n",
    "                  'caseOrigin', 'caseSource', 'lcDisagreement', 'lcDisposition', 'lcDispositionDirection', 'partyWinning', 'precedentAlteration',\n",
    "                  'decisionDirection', 'decisionDirectionDissent', 'authorityDecision1', 'lawType', 'majVotes', 'minVotes', 'justiceName', 'vote',\n",
    "                  'opinion', 'direction']\n",
    "\n",
    "dfMetadata = dfAllMetadata[relevantColumns]"
   ]
  },
  {
   "cell_type": "code",
   "execution_count": 5,
   "metadata": {
    "collapsed": false
   },
   "outputs": [
    {
     "data": {
      "text/plain": [
       "Index([u'caseIssuesId', u'decisionType', u'petitioner', u'petitionerState',\n",
       "       u'respondent', u'respondentState', u'jurisdiction', u'caseOrigin',\n",
       "       u'caseSource', u'lcDisagreement', u'lcDisposition',\n",
       "       u'lcDispositionDirection', u'partyWinning', u'precedentAlteration',\n",
       "       u'decisionDirection', u'decisionDirectionDissent',\n",
       "       u'authorityDecision1', u'lawType', u'majVotes', u'minVotes',\n",
       "       u'justiceName', u'vote', u'opinion', u'direction'],\n",
       "      dtype='object')"
      ]
     },
     "execution_count": 5,
     "metadata": {},
     "output_type": "execute_result"
    }
   ],
   "source": [
    "dfMetadata.columns"
   ]
  },
  {
   "cell_type": "code",
   "execution_count": 14,
   "metadata": {
    "collapsed": false
   },
   "outputs": [],
   "source": [
    "with open('./report-data/words.csv') as f:\n",
    "    dfWords = pd.read_csv(f)"
   ]
  },
  {
   "cell_type": "code",
   "execution_count": 15,
   "metadata": {
    "collapsed": true
   },
   "outputs": [],
   "source": [
    "with open('./report-data/turns.csv') as f:\n",
    "    dfTurns = pd.read_csv(f)"
   ]
  },
  {
   "cell_type": "code",
   "execution_count": 16,
   "metadata": {
    "collapsed": false
   },
   "outputs": [
    {
     "data": {
      "text/plain": [
       "ROBERTS      198\n",
       "SOTOMAYOR    197\n",
       "GINSBURG     196\n",
       "KAGAN        195\n",
       "KENNEDY      193\n",
       "BREYER       188\n",
       "ALITO        181\n",
       "SCALIA       166\n",
       "THOMAS         1\n",
       "Name: Name, dtype: int64"
      ]
     },
     "execution_count": 16,
     "metadata": {},
     "output_type": "execute_result"
    }
   ],
   "source": [
    "dfWordsJustices = dfWords[dfWords['Role'] == 'justice']\n",
    "dfWordsJustices['Name'].value_counts()"
   ]
  },
  {
   "cell_type": "code",
   "execution_count": 17,
   "metadata": {
    "collapsed": false,
    "scrolled": true
   },
   "outputs": [],
   "source": [
    "dfWordsOthers = dfWords[dfWords['Role'] == 'other']"
   ]
  },
  {
   "cell_type": "code",
   "execution_count": 27,
   "metadata": {
    "collapsed": true
   },
   "outputs": [],
   "source": [
    "wordTurnsJustices = {}\n",
    "for record in dfWordsJustices['Name'].value_counts().index:\n",
    "    wordTurnsJustices[record] = {\n",
    "        'name': record,\n",
    "        'words': 0,\n",
    "        'turns': 0,\n",
    "        'dockets': 0,\n",
    "    }"
   ]
  },
  {
   "cell_type": "code",
   "execution_count": 28,
   "metadata": {
    "collapsed": true
   },
   "outputs": [],
   "source": [
    "def gatherStatistics(row, stats):\n",
    "    stats[row['Name']]['words'] += row['Words']\n",
    "    stats[row['Name']]['turns'] += row['Turns']\n",
    "    stats[row['Name']]['dockets'] += 1"
   ]
  },
  {
   "cell_type": "code",
   "execution_count": 29,
   "metadata": {
    "collapsed": false
   },
   "outputs": [
    {
     "data": {
      "text/plain": [
       "{'ALITO': {'dockets': 181,\n",
       "  'name': 'ALITO',\n",
       "  'turns': 1953.0,\n",
       "  'words': 109523.0},\n",
       " 'BREYER': {'dockets': 188,\n",
       "  'name': 'BREYER',\n",
       "  'turns': 3498.0,\n",
       "  'words': 216658.0},\n",
       " 'GINSBURG': {'dockets': 196,\n",
       "  'name': 'GINSBURG',\n",
       "  'turns': 2024.0,\n",
       "  'words': 85567.0},\n",
       " 'KAGAN': {'dockets': 195,\n",
       "  'name': 'KAGAN',\n",
       "  'turns': 2494.0,\n",
       "  'words': 145995.0},\n",
       " 'KENNEDY': {'dockets': 193,\n",
       "  'name': 'KENNEDY',\n",
       "  'turns': 2151.0,\n",
       "  'words': 78200.0},\n",
       " 'ROBERTS': {'dockets': 198,\n",
       "  'name': 'ROBERTS',\n",
       "  'turns': 3659.0,\n",
       "  'words': 145197.0},\n",
       " 'SCALIA': {'dockets': 166,\n",
       "  'name': 'SCALIA',\n",
       "  'turns': 3439.0,\n",
       "  'words': 122246.0},\n",
       " 'SOTOMAYOR': {'dockets': 197,\n",
       "  'name': 'SOTOMAYOR',\n",
       "  'turns': 3593.0,\n",
       "  'words': 120623.0},\n",
       " 'THOMAS': {'dockets': 1, 'name': 'THOMAS', 'turns': 11.0, 'words': 353.0}}"
      ]
     },
     "execution_count": 29,
     "metadata": {},
     "output_type": "execute_result"
    }
   ],
   "source": [
    "dfWordsJustices.apply(lambda row: gatherStatistics(row, wordTurnsJustices),\n",
    "                      axis=1, reduce=False)\n",
    "wordTurnsJustices"
   ]
  },
  {
   "cell_type": "code",
   "execution_count": 73,
   "metadata": {
    "collapsed": false
   },
   "outputs": [],
   "source": [
    "indJustice = []\n",
    "docketsJustice = []\n",
    "turnsJustice = []\n",
    "wordsJustice = []\n",
    "for rec in wordTurnsJustices.values():\n",
    "    docketsJustice.append(rec['dockets'])\n",
    "    indJustice.append(rec['name'])\n",
    "    turnsJustice.append(rec['turns'])\n",
    "    wordsJustice.append(rec['words'])"
   ]
  },
  {
   "cell_type": "code",
   "execution_count": 74,
   "metadata": {
    "collapsed": false
   },
   "outputs": [],
   "source": [
    "dfDocket = pd.DataFrame(docketsJustice, index=indJustice, columns=['Dockets'])"
   ]
  },
  {
   "cell_type": "code",
   "execution_count": 75,
   "metadata": {
    "collapsed": false
   },
   "outputs": [],
   "source": [
    "dfDocket.sort_values(by='Dockets', inplace=True, ascending=False)"
   ]
  },
  {
   "cell_type": "code",
   "execution_count": 76,
   "metadata": {
    "collapsed": false
   },
   "outputs": [
    {
     "data": {
      "text/html": [
       "<div>\n",
       "<table border=\"1\" class=\"dataframe\">\n",
       "  <thead>\n",
       "    <tr style=\"text-align: right;\">\n",
       "      <th></th>\n",
       "      <th>Dockets</th>\n",
       "    </tr>\n",
       "  </thead>\n",
       "  <tbody>\n",
       "    <tr>\n",
       "      <th>ROBERTS</th>\n",
       "      <td>198</td>\n",
       "    </tr>\n",
       "    <tr>\n",
       "      <th>SOTOMAYOR</th>\n",
       "      <td>197</td>\n",
       "    </tr>\n",
       "    <tr>\n",
       "      <th>GINSBURG</th>\n",
       "      <td>196</td>\n",
       "    </tr>\n",
       "    <tr>\n",
       "      <th>KAGAN</th>\n",
       "      <td>195</td>\n",
       "    </tr>\n",
       "    <tr>\n",
       "      <th>KENNEDY</th>\n",
       "      <td>193</td>\n",
       "    </tr>\n",
       "    <tr>\n",
       "      <th>BREYER</th>\n",
       "      <td>188</td>\n",
       "    </tr>\n",
       "    <tr>\n",
       "      <th>ALITO</th>\n",
       "      <td>181</td>\n",
       "    </tr>\n",
       "    <tr>\n",
       "      <th>SCALIA</th>\n",
       "      <td>166</td>\n",
       "    </tr>\n",
       "    <tr>\n",
       "      <th>THOMAS</th>\n",
       "      <td>1</td>\n",
       "    </tr>\n",
       "  </tbody>\n",
       "</table>\n",
       "</div>"
      ],
      "text/plain": [
       "           Dockets\n",
       "ROBERTS        198\n",
       "SOTOMAYOR      197\n",
       "GINSBURG       196\n",
       "KAGAN          195\n",
       "KENNEDY        193\n",
       "BREYER         188\n",
       "ALITO          181\n",
       "SCALIA         166\n",
       "THOMAS           1"
      ]
     },
     "execution_count": 76,
     "metadata": {},
     "output_type": "execute_result"
    }
   ],
   "source": [
    "dfDocket"
   ]
  },
  {
   "cell_type": "code",
   "execution_count": 135,
   "metadata": {
    "collapsed": false
   },
   "outputs": [],
   "source": [
    "plt.figure()\n",
    "plt.xlabel('Justices')\n",
    "plt.ylabel('Number of dockets', fontsize=18)\n",
    "plt.ylim([df['Dockets'].min(), df['Dockets'].max()*1.1])\n",
    "dfDocket['Dockets'].plot.bar(rot=45, fontsize=14)\n",
    "idxPos = -0.14\n",
    "for idx in dfDocket.index:\n",
    "    plt.text(idxPos, dfDocket['Dockets'][idx]+5, str(dfDocket['Dockets'][idx]),\n",
    "             color='black', fontsize=20, fontweight='bold')\n",
    "    idxPos += 1\n",
    "plt.axvline(4.5, color='b', linestyle='--')\n",
    "plt.text(5, 1500, 'Cut-off boundary', fontsize=14)\n",
    "plt.show()"
   ]
  },
  {
   "cell_type": "code",
   "execution_count": 131,
   "metadata": {
    "collapsed": true
   },
   "outputs": [],
   "source": [
    "indJustice = []\n",
    "docketsJustice = []\n",
    "turnsJustice = []\n",
    "wordsJustice = []\n",
    "for rec in wordTurnsJustices.values():\n",
    "    if rec['name'] == 'THOMAS':\n",
    "        continue\n",
    "    docketsJustice.append(rec['dockets'])\n",
    "    indJustice.append(rec['name'])\n",
    "    turnsJustice.append(rec['turns'])\n",
    "    wordsJustice.append(rec['words'])"
   ]
  },
  {
   "cell_type": "code",
   "execution_count": null,
   "metadata": {
    "collapsed": true
   },
   "outputs": [],
   "source": [
    "def averageVal(row, val1, val2, colResult):\n",
    "    row[colResult] = row[val1] / float(row[val2])\n",
    "    return row"
   ]
  },
  {
   "cell_type": "code",
   "execution_count": 96,
   "metadata": {
    "collapsed": true
   },
   "outputs": [],
   "source": [
    "dfTurns = pd.DataFrame(zip(docketsJustice, turnsJustice), index=indJustice,\n",
    "                       columns=['Dockets', 'Turns'])\n",
    "dfTurns['Turns per Docket'] = 0\n",
    "dfTurns.sort_values(by='Turns', ascending=False, inplace=True)\n",
    "dfTurns = dfTurns.apply(lambda row: averageVal(row, 'Turns', 'Dockets',\n",
    "                                               'Turns per Docket'),\n",
    "                        axis=1, reduce=False)"
   ]
  },
  {
   "cell_type": "code",
   "execution_count": 124,
   "metadata": {
    "collapsed": false
   },
   "outputs": [
    {
     "data": {
      "text/html": [
       "<div>\n",
       "<table border=\"1\" class=\"dataframe\">\n",
       "  <thead>\n",
       "    <tr style=\"text-align: right;\">\n",
       "      <th></th>\n",
       "      <th>Dockets</th>\n",
       "      <th>Turns</th>\n",
       "      <th>Turns per Docket</th>\n",
       "    </tr>\n",
       "  </thead>\n",
       "  <tbody>\n",
       "    <tr>\n",
       "      <th>ROBERTS</th>\n",
       "      <td>198.0</td>\n",
       "      <td>3659.0</td>\n",
       "      <td>18.479798</td>\n",
       "    </tr>\n",
       "    <tr>\n",
       "      <th>SOTOMAYOR</th>\n",
       "      <td>197.0</td>\n",
       "      <td>3593.0</td>\n",
       "      <td>18.238579</td>\n",
       "    </tr>\n",
       "    <tr>\n",
       "      <th>BREYER</th>\n",
       "      <td>188.0</td>\n",
       "      <td>3498.0</td>\n",
       "      <td>18.606383</td>\n",
       "    </tr>\n",
       "    <tr>\n",
       "      <th>SCALIA</th>\n",
       "      <td>166.0</td>\n",
       "      <td>3439.0</td>\n",
       "      <td>20.716867</td>\n",
       "    </tr>\n",
       "    <tr>\n",
       "      <th>KAGAN</th>\n",
       "      <td>195.0</td>\n",
       "      <td>2494.0</td>\n",
       "      <td>12.789744</td>\n",
       "    </tr>\n",
       "    <tr>\n",
       "      <th>KENNEDY</th>\n",
       "      <td>193.0</td>\n",
       "      <td>2151.0</td>\n",
       "      <td>11.145078</td>\n",
       "    </tr>\n",
       "    <tr>\n",
       "      <th>GINSBURG</th>\n",
       "      <td>196.0</td>\n",
       "      <td>2024.0</td>\n",
       "      <td>10.326531</td>\n",
       "    </tr>\n",
       "    <tr>\n",
       "      <th>ALITO</th>\n",
       "      <td>181.0</td>\n",
       "      <td>1953.0</td>\n",
       "      <td>10.790055</td>\n",
       "    </tr>\n",
       "  </tbody>\n",
       "</table>\n",
       "</div>"
      ],
      "text/plain": [
       "           Dockets   Turns  Turns per Docket\n",
       "ROBERTS      198.0  3659.0         18.479798\n",
       "SOTOMAYOR    197.0  3593.0         18.238579\n",
       "BREYER       188.0  3498.0         18.606383\n",
       "SCALIA       166.0  3439.0         20.716867\n",
       "KAGAN        195.0  2494.0         12.789744\n",
       "KENNEDY      193.0  2151.0         11.145078\n",
       "GINSBURG     196.0  2024.0         10.326531\n",
       "ALITO        181.0  1953.0         10.790055"
      ]
     },
     "execution_count": 124,
     "metadata": {},
     "output_type": "execute_result"
    }
   ],
   "source": [
    "dfTurns"
   ]
  },
  {
   "cell_type": "code",
   "execution_count": 139,
   "metadata": {
    "collapsed": false
   },
   "outputs": [],
   "source": [
    "fig = plt.figure()\n",
    "ax = fig.add_subplot(111)\n",
    "ax2 = ax.twinx()\n",
    "plt.xlabel('Justices', fontsize=16)\n",
    "\n",
    "dfTurns['Turns'].plot.bar(rot=45, ax=ax, position=0, width=0.2, color='#25e6e9')\n",
    "dfTurns['Turns per Docket'].plot.bar(ax=ax2, position=1, width=0.2, color='yellow')\n",
    "\n",
    "plt.axvline(0.5, color='r', linestyle='--', linewidth=2)\n",
    "plt.axvline(3.5, color='b', linestyle='--')\n",
    "\n",
    "ax.set_ylabel('Turns', fontsize=18)\n",
    "ax2.set_ylabel('Turns per Docket', fontsize=18)\n",
    "plt.show()"
   ]
  },
  {
   "cell_type": "code",
   "execution_count": 127,
   "metadata": {
    "collapsed": true
   },
   "outputs": [],
   "source": [
    "dfWordsByDocket = pd.DataFrame(zip(docketsJustice, wordsJustice), index=indJustice,\n",
    "                       columns=['Dockets', 'Words'])\n",
    "dfWordsByDocket['Words per Docket'] = 0\n",
    "dfWordsByDocket.sort_values(by='Words', ascending=False, inplace=True)\n",
    "dfWordsByDocket = dfWordsByDocket.apply(lambda row: averageVal(row, 'Words', 'Dockets',\n",
    "                                               'Words per Docket'),\n",
    "                        axis=1, reduce=False)"
   ]
  },
  {
   "cell_type": "code",
   "execution_count": 141,
   "metadata": {
    "collapsed": true
   },
   "outputs": [],
   "source": [
    "fig = plt.figure()\n",
    "ax = fig.add_subplot(111)\n",
    "ax2 = ax.twinx()\n",
    "plt.xlabel('Justices', fontsize=16)\n",
    "\n",
    "dfWordsByDocket['Words'].plot.bar(rot=45, ax=ax, position=0, width=0.2, color='#25e6e9')\n",
    "dfWordsByDocket['Words per Docket'].plot.bar(ax=ax2, position=1, width=0.2, color='yellow')\n",
    "\n",
    "ax.set_ylabel('Words', fontsize=18)\n",
    "ax2.set_ylabel('Words per Docket', fontsize=18)\n",
    "plt.axvline(0.5, color='r', linestyle='--', linewidth=2)\n",
    "\n",
    "plt.show()"
   ]
  },
  {
   "cell_type": "code",
   "execution_count": 145,
   "metadata": {
    "collapsed": false
   },
   "outputs": [
    {
     "data": {
      "text/plain": [
       "array([14, 11, 11, 10, 10, 10, 10, 10,  9,  9,  9,  8,  8,  7,  7,  7,  7,\n",
       "        7,  6,  6,  6,  5,  5,  5,  5,  5,  4,  4,  4,  4,  4,  4,  3,  3,\n",
       "        3,  3,  3,  3,  3,  3,  3,  3,  3,  3,  3,  3,  3,  3,  2,  2,  2,\n",
       "        2,  2,  2,  2,  2,  2,  2,  2,  2,  2,  2,  2,  2,  2,  2,  2,  2,\n",
       "        2,  2,  2,  2,  2,  2,  2,  2,  2,  1,  1,  1,  1,  1,  1,  1,  1,\n",
       "        1,  1,  1,  1,  1,  1,  1,  1,  1,  1,  1,  1,  1,  1,  1,  1,  1,\n",
       "        1,  1,  1,  1,  1,  1,  1,  1,  1,  1,  1,  1,  1,  1,  1,  1,  1,\n",
       "        1,  1,  1,  1,  1,  1,  1,  1,  1,  1,  1,  1,  1,  1,  1,  1,  1,\n",
       "        1,  1,  1,  1,  1,  1,  1,  1,  1,  1,  1,  1,  1,  1,  1,  1,  1,\n",
       "        1,  1,  1,  1,  1,  1,  1,  1,  1,  1,  1,  1,  1,  1,  1,  1,  1,\n",
       "        1,  1,  1,  1,  1,  1,  1,  1,  1,  1,  1,  1,  1,  1,  1,  1,  1,\n",
       "        1,  1,  1,  1,  1,  1,  1,  1,  1,  1,  1,  1,  1,  1,  1,  1,  1,\n",
       "        1,  1,  1,  1,  1,  1,  1,  1,  1,  1,  1,  1,  1,  1,  1,  1,  1,\n",
       "        1,  1,  1,  1,  1,  1,  1,  1,  1,  1,  1,  1,  1,  1,  1,  1,  1,\n",
       "        1,  1,  1,  1,  1,  1,  1,  1,  1,  1], dtype=int64)"
      ]
     },
     "execution_count": 145,
     "metadata": {},
     "output_type": "execute_result"
    }
   ],
   "source": [
    "dfWordsOthers['Name'].value_counts().values"
   ]
  },
  {
   "cell_type": "code",
   "execution_count": null,
   "metadata": {
    "collapsed": true
   },
   "outputs": [],
   "source": []
  }
 ],
 "metadata": {
  "kernelspec": {
   "display_name": "Python 2",
   "language": "python",
   "name": "python2"
  },
  "language_info": {
   "codemirror_mode": {
    "name": "ipython",
    "version": 2
   },
   "file_extension": ".py",
   "mimetype": "text/x-python",
   "name": "python",
   "nbconvert_exporter": "python",
   "pygments_lexer": "ipython2",
   "version": "2.7.12"
  }
 },
 "nbformat": 4,
 "nbformat_minor": 0
}
