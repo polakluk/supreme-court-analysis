{
 "cells": [
  {
   "cell_type": "code",
   "execution_count": 2,
   "metadata": {
    "collapsed": true
   },
   "outputs": [],
   "source": [
    "import pandas as pd\n",
    "import nltk\n",
    "import time\n",
    "import matplotlib.pyplot as plt\n",
    "plt.style.use('ggplot')"
   ]
  },
  {
   "cell_type": "code",
   "execution_count": 53,
   "metadata": {
    "collapsed": true
   },
   "outputs": [],
   "source": [
    "df = pd.read_csv('./parsed-data/dialog.csv')"
   ]
  },
  {
   "cell_type": "code",
   "execution_count": 54,
   "metadata": {
    "collapsed": false
   },
   "outputs": [
    {
     "data": {
      "text/html": [
       "<div>\n",
       "<table border=\"1\" class=\"dataframe\">\n",
       "  <thead>\n",
       "    <tr style=\"text-align: right;\">\n",
       "      <th></th>\n",
       "      <th>role</th>\n",
       "      <th>name</th>\n",
       "      <th>text</th>\n",
       "      <th>was interrupted</th>\n",
       "      <th>turn</th>\n",
       "      <th>sentiment</th>\n",
       "      <th>idx</th>\n",
       "      <th>docket</th>\n",
       "    </tr>\n",
       "  </thead>\n",
       "  <tbody>\n",
       "    <tr>\n",
       "      <th>0</th>\n",
       "      <td>justice</td>\n",
       "      <td>ROBERTS</td>\n",
       "      <td>We'll hear argument first this morning in Case...</td>\n",
       "      <td>0.0</td>\n",
       "      <td>0.0</td>\n",
       "      <td>0.0</td>\n",
       "      <td>0.0</td>\n",
       "      <td>11-681</td>\n",
       "    </tr>\n",
       "    <tr>\n",
       "      <th>1</th>\n",
       "      <td>other</td>\n",
       "      <td>MESSENGER</td>\n",
       "      <td>Mr Chief Justice, and may it please the Court:...</td>\n",
       "      <td>1.0</td>\n",
       "      <td>1.0</td>\n",
       "      <td>0.0</td>\n",
       "      <td>1.0</td>\n",
       "      <td>11-681</td>\n",
       "    </tr>\n",
       "    <tr>\n",
       "      <th>2</th>\n",
       "      <td>justice</td>\n",
       "      <td>GINSBURG</td>\n",
       "      <td>I thought it was to negotiate what's typically...</td>\n",
       "      <td>0.0</td>\n",
       "      <td>2.0</td>\n",
       "      <td>0.0</td>\n",
       "      <td>2.0</td>\n",
       "      <td>11-681</td>\n",
       "    </tr>\n",
       "    <tr>\n",
       "      <th>3</th>\n",
       "      <td>other</td>\n",
       "      <td>MESSENGER</td>\n",
       "      <td>The subjects of bargaining here are the reimbu...</td>\n",
       "      <td>0.0</td>\n",
       "      <td>3.0</td>\n",
       "      <td>1.0</td>\n",
       "      <td>3.0</td>\n",
       "      <td>11-681</td>\n",
       "    </tr>\n",
       "    <tr>\n",
       "      <th>4</th>\n",
       "      <td>justice</td>\n",
       "      <td>GINSBURG</td>\n",
       "      <td>But how does it differ from the typical bargai...</td>\n",
       "      <td>0.0</td>\n",
       "      <td>4.0</td>\n",
       "      <td>0.0</td>\n",
       "      <td>4.0</td>\n",
       "      <td>11-681</td>\n",
       "    </tr>\n",
       "    <tr>\n",
       "      <th>5</th>\n",
       "      <td>other</td>\n",
       "      <td>MESSENGER</td>\n",
       "      <td>Yes. When -- in the public sector, when a grou...</td>\n",
       "      <td>0.0</td>\n",
       "      <td>5.0</td>\n",
       "      <td>0.0</td>\n",
       "      <td>5.0</td>\n",
       "      <td>11-681</td>\n",
       "    </tr>\n",
       "    <tr>\n",
       "      <th>6</th>\n",
       "      <td>justice</td>\n",
       "      <td>SOTOMAYOR</td>\n",
       "      <td>Is your argument dependent on this being sort ...</td>\n",
       "      <td>0.0</td>\n",
       "      <td>6.0</td>\n",
       "      <td>-1.0</td>\n",
       "      <td>6.0</td>\n",
       "      <td>11-681</td>\n",
       "    </tr>\n",
       "    <tr>\n",
       "      <th>7</th>\n",
       "      <td>other</td>\n",
       "      <td>MESSENGER</td>\n",
       "      <td>That is our position for why Abood is distingu...</td>\n",
       "      <td>0.0</td>\n",
       "      <td>7.0</td>\n",
       "      <td>0.0</td>\n",
       "      <td>7.0</td>\n",
       "      <td>11-681</td>\n",
       "    </tr>\n",
       "    <tr>\n",
       "      <th>8</th>\n",
       "      <td>justice</td>\n",
       "      <td>KAGAN</td>\n",
       "      <td>But your argument, of course, isn't limited to...</td>\n",
       "      <td>0.0</td>\n",
       "      <td>8.0</td>\n",
       "      <td>0.0</td>\n",
       "      <td>8.0</td>\n",
       "      <td>11-681</td>\n",
       "    </tr>\n",
       "    <tr>\n",
       "      <th>9</th>\n",
       "      <td>other</td>\n",
       "      <td>MESSENGER</td>\n",
       "      <td>Yes. And that the -- the actual bargaining, ev...</td>\n",
       "      <td>0.0</td>\n",
       "      <td>9.0</td>\n",
       "      <td>0.0</td>\n",
       "      <td>9.0</td>\n",
       "      <td>11-681</td>\n",
       "    </tr>\n",
       "  </tbody>\n",
       "</table>\n",
       "</div>"
      ],
      "text/plain": [
       "      role       name                                               text  \\\n",
       "0  justice    ROBERTS  We'll hear argument first this morning in Case...   \n",
       "1    other  MESSENGER  Mr Chief Justice, and may it please the Court:...   \n",
       "2  justice   GINSBURG  I thought it was to negotiate what's typically...   \n",
       "3    other  MESSENGER  The subjects of bargaining here are the reimbu...   \n",
       "4  justice   GINSBURG  But how does it differ from the typical bargai...   \n",
       "5    other  MESSENGER  Yes. When -- in the public sector, when a grou...   \n",
       "6  justice  SOTOMAYOR  Is your argument dependent on this being sort ...   \n",
       "7    other  MESSENGER  That is our position for why Abood is distingu...   \n",
       "8  justice      KAGAN  But your argument, of course, isn't limited to...   \n",
       "9    other  MESSENGER  Yes. And that the -- the actual bargaining, ev...   \n",
       "\n",
       "   was interrupted  turn  sentiment  idx  docket  \n",
       "0              0.0   0.0        0.0  0.0  11-681  \n",
       "1              1.0   1.0        0.0  1.0  11-681  \n",
       "2              0.0   2.0        0.0  2.0  11-681  \n",
       "3              0.0   3.0        1.0  3.0  11-681  \n",
       "4              0.0   4.0        0.0  4.0  11-681  \n",
       "5              0.0   5.0        0.0  5.0  11-681  \n",
       "6              0.0   6.0       -1.0  6.0  11-681  \n",
       "7              0.0   7.0        0.0  7.0  11-681  \n",
       "8              0.0   8.0        0.0  8.0  11-681  \n",
       "9              0.0   9.0        0.0  9.0  11-681  "
      ]
     },
     "execution_count": 54,
     "metadata": {},
     "output_type": "execute_result"
    }
   ],
   "source": [
    "df[:10]"
   ]
  },
  {
   "cell_type": "code",
   "execution_count": 55,
   "metadata": {
    "collapsed": false
   },
   "outputs": [
    {
     "data": {
      "text/plain": [
       "\"We'll hear argument first this morning in Case 11-681, Harris v. Quinn. Mr Messenger. ORAL ARGUMENT OF WILLIAM L. MESSENGER ON BEHALF OF THE PETITIONERS\""
      ]
     },
     "execution_count": 55,
     "metadata": {},
     "output_type": "execute_result"
    }
   ],
   "source": [
    "df['text'][0]"
   ]
  },
  {
   "cell_type": "code",
   "execution_count": 56,
   "metadata": {
    "collapsed": true
   },
   "outputs": [],
   "source": [
    "def strip_interpunction(word):\n",
    "    if len(word) == 0:\n",
    "        return word\n",
    "    start = 0\n",
    "    end = len(word)\n",
    "    if word[0] in '.,/;\\'\"!?-':\n",
    "        start = 1\n",
    "    if word[end-1] in '.,/;\\'\"!?-':\n",
    "        end -= 1\n",
    "        \n",
    "    return word[start:end].lower()\n",
    "\n",
    "\n",
    "def extract_words(row):\n",
    "    row['text'] = str(row['text']) if str(row['text']) != 'nan' else ''\n",
    "    words = row['text'].split(' ')\n",
    "    final_words = [strip_interpunction(word.strip()) for word in words]\n",
    "    row['words'] = final_words\n",
    "    return row"
   ]
  },
  {
   "cell_type": "code",
   "execution_count": 58,
   "metadata": {
    "collapsed": false,
    "scrolled": true
   },
   "outputs": [],
   "source": [
    "df = df.apply(lambda row: extract_words(row), axis=1)"
   ]
  },
  {
   "cell_type": "code",
   "execution_count": 59,
   "metadata": {
    "collapsed": false,
    "scrolled": true
   },
   "outputs": [
    {
     "data": {
      "text/plain": [
       "0        None\n",
       "1        None\n",
       "2        None\n",
       "3        None\n",
       "4        None\n",
       "5        None\n",
       "6        None\n",
       "7        None\n",
       "8        None\n",
       "9        None\n",
       "10       None\n",
       "11       None\n",
       "12       None\n",
       "13       None\n",
       "14       None\n",
       "15       None\n",
       "16       None\n",
       "17       None\n",
       "18       None\n",
       "19       None\n",
       "20       None\n",
       "21       None\n",
       "22       None\n",
       "23       None\n",
       "24       None\n",
       "25       None\n",
       "26       None\n",
       "27       None\n",
       "28       None\n",
       "29       None\n",
       "         ... \n",
       "42863    None\n",
       "42864    None\n",
       "42865    None\n",
       "42866    None\n",
       "42867    None\n",
       "42868    None\n",
       "42869    None\n",
       "42870    None\n",
       "42871    None\n",
       "42872    None\n",
       "42873    None\n",
       "42874    None\n",
       "42875    None\n",
       "42876    None\n",
       "42877    None\n",
       "42878    None\n",
       "42879    None\n",
       "42880    None\n",
       "42881    None\n",
       "42882    None\n",
       "42883    None\n",
       "42884    None\n",
       "42885    None\n",
       "42886    None\n",
       "42887    None\n",
       "42888    None\n",
       "42889    None\n",
       "42890    None\n",
       "42891    None\n",
       "42892    None\n",
       "dtype: object"
      ]
     },
     "execution_count": 59,
     "metadata": {},
     "output_type": "execute_result"
    }
   ],
   "source": [
    "all_words = []\n",
    "df.apply(lambda row: all_words.extend(row['words']), axis=1)"
   ]
  },
  {
   "cell_type": "code",
   "execution_count": 62,
   "metadata": {
    "collapsed": false
   },
   "outputs": [
    {
     "data": {
      "text/plain": [
       "2114109"
      ]
     },
     "execution_count": 62,
     "metadata": {},
     "output_type": "execute_result"
    }
   ],
   "source": [
    "len(all_words)"
   ]
  },
  {
   "cell_type": "code",
   "execution_count": 63,
   "metadata": {
    "collapsed": false
   },
   "outputs": [
    {
     "data": {
      "text/plain": [
       "27836"
      ]
     },
     "execution_count": 63,
     "metadata": {},
     "output_type": "execute_result"
    }
   ],
   "source": [
    "unique_words = set(all_words)\n",
    "len(unique_words)"
   ]
  },
  {
   "cell_type": "code",
   "execution_count": 64,
   "metadata": {
    "collapsed": false
   },
   "outputs": [],
   "source": [
    "freq = nltk.FreqDist(all_words)"
   ]
  },
  {
   "cell_type": "code",
   "execution_count": 84,
   "metadata": {
    "collapsed": false
   },
   "outputs": [],
   "source": [
    "idx = 0\n",
    "freq_dict_tmp = dict(freq)\n",
    "freq_dict = [(key, freq_dict_tmp[key]) for key in freq_dict_tmp.keys() if len(key) > 2]\n",
    "freq_dict.sort(key= lambda rec: rec[1], reverse=True)"
   ]
  },
  {
   "cell_type": "code",
   "execution_count": 90,
   "metadata": {
    "collapsed": false
   },
   "outputs": [],
   "source": [
    "from textblob import TextBlob\n",
    "from textblob_aptagger import PerceptronTagger\n",
    "\n",
    "pos_tagger = PerceptronTagger()\n",
    "freq_dict_clean = []\n",
    "for key in range(len(freq_dict)):\n",
    "    tmp = TextBlob(freq_dict[key][0], pos_tagger= pos_tagger)\n",
    "    if tmp.tags[0][1] in ['VB', 'VBD', 'VBG', 'VBN', 'VBP', 'VBZ', 'MD', 'PP', 'PP', 'NN',\n",
    "                          'NNS', 'NNP', 'NNPS', 'RB', 'RBR', 'RBS']:\n",
    "        freq_dict_clean.append(freq_dict[key])"
   ]
  },
  {
   "cell_type": "code",
   "execution_count": 110,
   "metadata": {
    "collapsed": true
   },
   "outputs": [],
   "source": [
    "all_words_relevant = [w for w in all_words if len(w) > 2]"
   ]
  },
  {
   "cell_type": "code",
   "execution_count": 112,
   "metadata": {
    "collapsed": false
   },
   "outputs": [],
   "source": [
    "all_words_clean = []\n",
    "for w in all_words_relevant:\n",
    "    tmp = TextBlob(w, pos_tagger= pos_tagger)\n",
    "    if tmp.tags[0][1] in ['VB', 'VBD', 'VBG', 'VBN', 'VBP', 'VBZ', 'MD', 'PP', 'PP', 'NN',\n",
    "                          'NNS', 'NNP', 'NNPS', 'RB', 'RBR', 'RBS']:\n",
    "        all_words_clean.append(w)"
   ]
  },
  {
   "cell_type": "code",
   "execution_count": 113,
   "metadata": {
    "collapsed": false
   },
   "outputs": [
    {
     "data": {
      "text/plain": [
       "967870"
      ]
     },
     "execution_count": 113,
     "metadata": {},
     "output_type": "execute_result"
    }
   ],
   "source": [
    "len(all_words_clean)"
   ]
  },
  {
   "cell_type": "code",
   "execution_count": 86,
   "metadata": {
    "collapsed": false
   },
   "outputs": [
    {
     "data": {
      "text/plain": [
       "27461"
      ]
     },
     "execution_count": 86,
     "metadata": {},
     "output_type": "execute_result"
    }
   ],
   "source": [
    "len(freq_dict)"
   ]
  },
  {
   "cell_type": "code",
   "execution_count": 96,
   "metadata": {
    "collapsed": false
   },
   "outputs": [
    {
     "data": {
      "text/plain": [
       "23230"
      ]
     },
     "execution_count": 96,
     "metadata": {},
     "output_type": "execute_result"
    }
   ],
   "source": [
    "len(freq_dict_clean)"
   ]
  },
  {
   "cell_type": "code",
   "execution_count": 97,
   "metadata": {
    "collapsed": true
   },
   "outputs": [],
   "source": [
    "words_clean = [w[0] for w in freq_dict_clean]"
   ]
  },
  {
   "cell_type": "code",
   "execution_count": 92,
   "metadata": {
    "collapsed": false
   },
   "outputs": [],
   "source": [
    "from tools.synonyms.lin import Lin"
   ]
  },
  {
   "cell_type": "code",
   "execution_count": 93,
   "metadata": {
    "collapsed": true
   },
   "outputs": [],
   "source": [
    "syns_reader = Lin()"
   ]
  },
  {
   "cell_type": "code",
   "execution_count": 132,
   "metadata": {
    "collapsed": false,
    "scrolled": true
   },
   "outputs": [],
   "source": [
    "syns_reader.SetSimilarity(0.03)\n",
    "syns_reader.SetUseLemma(True)"
   ]
  },
  {
   "cell_type": "code",
   "execution_count": 133,
   "metadata": {
    "collapsed": false
   },
   "outputs": [
    {
     "ename": "KeyboardInterrupt",
     "evalue": "",
     "output_type": "error",
     "traceback": [
      "\u001b[1;31m---------------------------------------------------------------------------\u001b[0m",
      "\u001b[1;31mKeyboardInterrupt\u001b[0m                         Traceback (most recent call last)",
      "\u001b[1;32m<ipython-input-133-36a3a589ce1e>\u001b[0m in \u001b[0;36m<module>\u001b[1;34m()\u001b[0m\n\u001b[0;32m      3\u001b[0m \u001b[1;32mfor\u001b[0m \u001b[0mw\u001b[0m \u001b[1;32min\u001b[0m \u001b[0mall_words_clean\u001b[0m\u001b[1;33m:\u001b[0m\u001b[1;33m\u001b[0m\u001b[0m\n\u001b[0;32m      4\u001b[0m     \u001b[0mcurrent_words\u001b[0m \u001b[1;33m=\u001b[0m \u001b[0msyns_reader\u001b[0m\u001b[1;33m.\u001b[0m\u001b[0mGetSynonyms\u001b[0m\u001b[1;33m(\u001b[0m\u001b[0mw\u001b[0m\u001b[1;33m)\u001b[0m\u001b[1;33m\u001b[0m\u001b[0m\n\u001b[1;32m----> 5\u001b[1;33m     \u001b[1;32mif\u001b[0m \u001b[1;32mnot\u001b[0m \u001b[0many\u001b[0m\u001b[1;33m(\u001b[0m\u001b[1;33m[\u001b[0m\u001b[0mw\u001b[0m \u001b[1;32min\u001b[0m \u001b[0mall_words_syns\u001b[0m \u001b[1;32mfor\u001b[0m \u001b[0mw\u001b[0m \u001b[1;32min\u001b[0m \u001b[0mcurrent_words\u001b[0m\u001b[1;33m]\u001b[0m\u001b[1;33m)\u001b[0m\u001b[1;33m:\u001b[0m\u001b[1;33m\u001b[0m\u001b[0m\n\u001b[0m\u001b[0;32m      6\u001b[0m         \u001b[0mall_words_syns\u001b[0m\u001b[1;33m.\u001b[0m\u001b[0mextend\u001b[0m\u001b[1;33m(\u001b[0m\u001b[0mcurrent_words\u001b[0m\u001b[1;33m)\u001b[0m\u001b[1;33m\u001b[0m\u001b[0m\n\u001b[0;32m      7\u001b[0m \u001b[1;33m\u001b[0m\u001b[0m\n",
      "\u001b[1;31mKeyboardInterrupt\u001b[0m: "
     ]
    }
   ],
   "source": [
    "all_words_syns = []\n",
    "tStart = time.time()\n",
    "for w in all_words_clean:\n",
    "    current_words = syns_reader.GetSynonyms(w)\n",
    "    if not any([w in all_words_syns for w in current_words]):\n",
    "        all_words_syns.extend(current_words)\n",
    "\n",
    "tEnd = time.time()\n",
    "print(\"Timed: {}\".format(tEnd-tStart))\n",
    "all_words_syns_set = set(all_words_syns)\n",
    "len(all_words_syns_set)"
   ]
  },
  {
   "cell_type": "code",
   "execution_count": 120,
   "metadata": {
    "collapsed": false
   },
   "outputs": [
    {
     "data": {
      "text/plain": [
       "['$loo',\n",
       " \"'inaccurate\",\n",
       " \"'wages\",\n",
       " '(a)',\n",
       " '(a)(2)',\n",
       " '(a)(2)(a)',\n",
       " '(a)(2)(b)',\n",
       " '(a)(2)(d)',\n",
       " '(a)(3)',\n",
       " '(a)(3)(c)']"
      ]
     },
     "execution_count": 120,
     "metadata": {},
     "output_type": "execute_result"
    }
   ],
   "source": [
    "all_words_syns.sort()\n",
    "all_words_syns[:10]"
   ]
  },
  {
   "cell_type": "code",
   "execution_count": 127,
   "metadata": {
    "collapsed": false
   },
   "outputs": [],
   "source": [
    "count_groupped = 0\n",
    "for w in words_clean:\n",
    "    found = False\n",
    "    start = 0\n",
    "    end = len(all_words_syns) - 1\n",
    "    while start <= end:\n",
    "        middle = (end+start) / 2\n",
    "        if all_words_syns[middle] == w:\n",
    "            found = True\n",
    "            break\n",
    "        else:\n",
    "            if all_words_syns[middle] > w:\n",
    "                end = middle - 1\n",
    "            else:\n",
    "                start = middle + 1\n",
    "    if not found:\n",
    "        count_groupped += freq[w]"
   ]
  },
  {
   "cell_type": "code",
   "execution_count": 128,
   "metadata": {
    "collapsed": false
   },
   "outputs": [
    {
     "data": {
      "text/plain": [
       "219107"
      ]
     },
     "execution_count": 128,
     "metadata": {},
     "output_type": "execute_result"
    }
   ],
   "source": [
    "count_groupped"
   ]
  },
  {
   "cell_type": "code",
   "execution_count": 94,
   "metadata": {
    "collapsed": true
   },
   "outputs": [],
   "source": [
    "syns_reader_all = Lin()\n",
    "syns_reader_all.SetSimilarity(0.03)\n",
    "syns_reader_all.SetMaxWords(0)\n"
   ]
  },
  {
   "cell_type": "code",
   "execution_count": 95,
   "metadata": {
    "collapsed": false
   },
   "outputs": [
    {
     "name": "stdout",
     "output_type": "stream",
     "text": [
      "Timed: 14.8919999599\n"
     ]
    },
    {
     "data": {
      "text/plain": [
       "9271525"
      ]
     },
     "execution_count": 95,
     "metadata": {},
     "output_type": "execute_result"
    }
   ],
   "source": [
    "all_words_syns_all = []\n",
    "tStart = time.time()\n",
    "for w in all_words:\n",
    "    current_words = syns_reader_all.GetSynonyms(w)\n",
    "    all_words_syns_all.extend(current_words)\n",
    "\n",
    "tEnd = time.time()\n",
    "print(\"Timed: {}\".format(tEnd-tStart))\n",
    "all_words_syns_all_set = set(all_words_syns_all)\n",
    "len(all_words_syns_all)"
   ]
  },
  {
   "cell_type": "code",
   "execution_count": 23,
   "metadata": {
    "collapsed": true
   },
   "outputs": [],
   "source": [
    "syns_reader_lemma = Lin()\n",
    "syns_reader_lemma.SetSimilarity(0.03)\n",
    "syns_reader_lemma.SetUseLemma(False)"
   ]
  },
  {
   "cell_type": "code",
   "execution_count": 24,
   "metadata": {
    "collapsed": false
   },
   "outputs": [
    {
     "name": "stdout",
     "output_type": "stream",
     "text": [
      "Timed: 124.208999872\n"
     ]
    },
    {
     "data": {
      "text/plain": [
       "34824"
      ]
     },
     "execution_count": 24,
     "metadata": {},
     "output_type": "execute_result"
    }
   ],
   "source": [
    "all_words_syns_not_lemma = []\n",
    "tStart = time.time()\n",
    "for w in all_words:\n",
    "    current_words = syns_reader_all.GetSynonyms(w)\n",
    "    all_words_syns_not_lemma.extend(current_words)\n",
    "\n",
    "tEnd = time.time()\n",
    "print(\"Timed: {}\".format(tEnd-tStart))\n",
    "all_words_syns_not_lemma_set = set(all_words_syns_not_lemma)\n",
    "len(all_words_syns_not_lemma_set)"
   ]
  },
  {
   "cell_type": "code",
   "execution_count": 25,
   "metadata": {
    "collapsed": false
   },
   "outputs": [
    {
     "name": "stdout",
     "output_type": "stream",
     "text": [
      "Timed: 126.514000177\n"
     ]
    },
    {
     "data": {
      "text/plain": [
       "34824"
      ]
     },
     "execution_count": 25,
     "metadata": {},
     "output_type": "execute_result"
    }
   ],
   "source": [
    "syns_reader_lemma.SetMaxWords(0)\n",
    "all_words_syns_not_lemma_all_words = []\n",
    "tStart = time.time()\n",
    "for w in all_words:\n",
    "    current_words = syns_reader_all.GetSynonyms(w)\n",
    "    all_words_syns_not_lemma_all_words.extend(current_words)\n",
    "\n",
    "tEnd = time.time()\n",
    "print(\"Timed: {}\".format(tEnd-tStart))\n",
    "all_words_syns_not_lemma_all_words_set = set(all_words_syns_not_lemma_all_words)\n",
    "len(all_words_syns_not_lemma_all_words_set)"
   ]
  },
  {
   "cell_type": "code",
   "execution_count": 129,
   "metadata": {
    "collapsed": true
   },
   "outputs": [],
   "source": [
    "testing = [[0.03, 0, True], [0.03, 0, False],\n",
    "          [0.04, 0, True], [0.04, 0, False],\n",
    "          [0.05, 0, True], [0.05, 0, False],\n",
    "          [0.06, 0, True], [0.06, 0, False],\n",
    "          [0.07, 0, True], [0.07, 0, False],\n",
    "          [0.08, 0, True], [0.08, 0, False],\n",
    "          [0.09, 0, True], [0.09, 0, False],\n",
    "          [0.10, 0, True], [0.10, 0, False]]\n",
    "syns_reader_test = Lin()"
   ]
  },
  {
   "cell_type": "code",
   "execution_count": 134,
   "metadata": {
    "collapsed": false
   },
   "outputs": [
    {
     "name": "stdout",
     "output_type": "stream",
     "text": [
      "Test sim = 0.03; words = 0; Lemma = True ===> 215483(21948)    43.4600000381\n",
      "Test sim = 0.03; words = 0; Lemma = False ===> 145915(23896)    42.1890001297\n",
      "Test sim = 0.04; words = 0; Lemma = True ===> 241581(21414)    57.2880001068\n",
      "Test sim = 0.04; words = 0; Lemma = False ===> 171630(23554)    56.6160001755\n",
      "Test sim = 0.05; words = 0; Lemma = True ===> 305742(20944)    79.6809999943\n",
      "Test sim = 0.05; words = 0; Lemma = False ===> 231934(23154)    76.1429998875\n",
      "Test sim = 0.06; words = 0; Lemma = True ===> 324353(20440)    119.142999887\n",
      "Test sim = 0.06; words = 0; Lemma = False ===> 235378(22851)    102.949999809\n",
      "Test sim = 0.07; words = 0; Lemma = True ===> 326920(20380)    144.30099988\n",
      "Test sim = 0.07; words = 0; Lemma = False ===> 244702(22697)    121.103999853\n",
      "Test sim = 0.08; words = 0; Lemma = True ===> 339198(20180)    160.532999992\n",
      "Test sim = 0.08; words = 0; Lemma = False ===> 245589(22608)    154.386999846\n",
      "Test sim = 0.09; words = 0; Lemma = True ===> 344435(20120)    214.977999926\n",
      "Test sim = 0.09; words = 0; Lemma = False ===> 259674(22606)    214.453999996\n",
      "Test sim = 0.1; words = 0; Lemma = True ===> 359866(20136)    247.361000061\n",
      "Test sim = 0.1; words = 0; Lemma = False ===> 276031(22525)    193.893000126\n"
     ]
    }
   ],
   "source": [
    "def findInArray(needle, haystack):\n",
    "    found = False\n",
    "    start = 0\n",
    "    end = len(haystack) - 1\n",
    "    while start <= end:\n",
    "        middle = (end+start) / 2\n",
    "        if haystack[middle] == needle:\n",
    "            found = True\n",
    "            break\n",
    "        else:\n",
    "            if haystack[middle] > needle:\n",
    "                end = middle - 1\n",
    "            else:\n",
    "                start = middle + 1\n",
    "    return found\n",
    "\n",
    "dtData = []\n",
    "for test in testing:\n",
    "    found_syns_words = []\n",
    "    syns_reader_test.SetSimilarity(test[0])\n",
    "    syns_reader_test.SetMaxWords(test[1])\n",
    "    syns_reader_test.SetUseLemma(test[2])\n",
    "    count_groupped = 0\n",
    "    tStart = time.time()\n",
    "    for w in all_words_clean:\n",
    "        current_words = syns_reader_test.GetSynonyms(w)\n",
    "        if not any([findInArray(word, found_syns_words) for word in current_words]):\n",
    "            found_syns_words.extend(current_words)\n",
    "            found_syns_words.sort()\n",
    "    tEnd = time.time()\n",
    "\n",
    "    for w in words_clean:\n",
    "        if not findInArray(w, found_syns_words):\n",
    "            count_groupped += freq[w]\n",
    "\n",
    "    dtData.append([test[0], test[1], test[2], len(found_syns_words), count_groupped])\n",
    "    print(\"Test sim = {}; words = {}; Lemma = {} ===> {}({})    {}\".format(test[0], test[1], test[2], count_groupped, len(found_syns_words), tEnd-tStart))\n"
   ]
  },
  {
   "cell_type": "code",
   "execution_count": 135,
   "metadata": {
    "collapsed": false
   },
   "outputs": [
    {
     "data": {
      "text/plain": [
       "[[0.03, 0, True, 21948, 215483],\n",
       " [0.03, 0, False, 23896, 145915],\n",
       " [0.04, 0, True, 21414, 241581],\n",
       " [0.04, 0, False, 23554, 171630],\n",
       " [0.05, 0, True, 20944, 305742],\n",
       " [0.05, 0, False, 23154, 231934],\n",
       " [0.06, 0, True, 20440, 324353],\n",
       " [0.06, 0, False, 22851, 235378],\n",
       " [0.07, 0, True, 20380, 326920],\n",
       " [0.07, 0, False, 22697, 244702],\n",
       " [0.08, 0, True, 20180, 339198],\n",
       " [0.08, 0, False, 22608, 245589],\n",
       " [0.09, 0, True, 20120, 344435],\n",
       " [0.09, 0, False, 22606, 259674],\n",
       " [0.1, 0, True, 20136, 359866],\n",
       " [0.1, 0, False, 22525, 276031]]"
      ]
     },
     "execution_count": 135,
     "metadata": {},
     "output_type": "execute_result"
    }
   ],
   "source": [
    "dtData"
   ]
  },
  {
   "cell_type": "code",
   "execution_count": 136,
   "metadata": {
    "collapsed": true
   },
   "outputs": [],
   "source": [
    "dfSim = pd.DataFrame(dtData, columns=['Sim', 'MaxWords', 'Lemma', 'UniqueWords', 'CondensatedWords'])"
   ]
  },
  {
   "cell_type": "code",
   "execution_count": 159,
   "metadata": {
    "collapsed": true
   },
   "outputs": [],
   "source": [
    "def calcCondensate(row):\n",
    "    row['Condensated'] = (row['CondensatedWords'] / float(len(all_words_clean))) * 100\n",
    "    return row\n",
    "\n",
    "dfSim = dfSim.apply(lambda row: calcCondensate(row), axis=1)"
   ]
  },
  {
   "cell_type": "code",
   "execution_count": 160,
   "metadata": {
    "collapsed": false
   },
   "outputs": [
    {
     "data": {
      "text/html": [
       "<div>\n",
       "<table border=\"1\" class=\"dataframe\">\n",
       "  <thead>\n",
       "    <tr style=\"text-align: right;\">\n",
       "      <th></th>\n",
       "      <th>Sim</th>\n",
       "      <th>MaxWords</th>\n",
       "      <th>Lemma</th>\n",
       "      <th>UniqueWords</th>\n",
       "      <th>CondensatedWords</th>\n",
       "      <th>Condensated</th>\n",
       "    </tr>\n",
       "  </thead>\n",
       "  <tbody>\n",
       "    <tr>\n",
       "      <th>0</th>\n",
       "      <td>0.03</td>\n",
       "      <td>0</td>\n",
       "      <td>True</td>\n",
       "      <td>21948</td>\n",
       "      <td>215483</td>\n",
       "      <td>22.263630</td>\n",
       "    </tr>\n",
       "    <tr>\n",
       "      <th>1</th>\n",
       "      <td>0.03</td>\n",
       "      <td>0</td>\n",
       "      <td>False</td>\n",
       "      <td>23896</td>\n",
       "      <td>145915</td>\n",
       "      <td>15.075888</td>\n",
       "    </tr>\n",
       "    <tr>\n",
       "      <th>2</th>\n",
       "      <td>0.04</td>\n",
       "      <td>0</td>\n",
       "      <td>True</td>\n",
       "      <td>21414</td>\n",
       "      <td>241581</td>\n",
       "      <td>24.960067</td>\n",
       "    </tr>\n",
       "    <tr>\n",
       "      <th>3</th>\n",
       "      <td>0.04</td>\n",
       "      <td>0</td>\n",
       "      <td>False</td>\n",
       "      <td>23554</td>\n",
       "      <td>171630</td>\n",
       "      <td>17.732753</td>\n",
       "    </tr>\n",
       "    <tr>\n",
       "      <th>4</th>\n",
       "      <td>0.05</td>\n",
       "      <td>0</td>\n",
       "      <td>True</td>\n",
       "      <td>20944</td>\n",
       "      <td>305742</td>\n",
       "      <td>31.589160</td>\n",
       "    </tr>\n",
       "    <tr>\n",
       "      <th>5</th>\n",
       "      <td>0.05</td>\n",
       "      <td>0</td>\n",
       "      <td>False</td>\n",
       "      <td>23154</td>\n",
       "      <td>231934</td>\n",
       "      <td>23.963342</td>\n",
       "    </tr>\n",
       "    <tr>\n",
       "      <th>6</th>\n",
       "      <td>0.06</td>\n",
       "      <td>0</td>\n",
       "      <td>True</td>\n",
       "      <td>20440</td>\n",
       "      <td>324353</td>\n",
       "      <td>33.512042</td>\n",
       "    </tr>\n",
       "    <tr>\n",
       "      <th>7</th>\n",
       "      <td>0.06</td>\n",
       "      <td>0</td>\n",
       "      <td>False</td>\n",
       "      <td>22851</td>\n",
       "      <td>235378</td>\n",
       "      <td>24.319175</td>\n",
       "    </tr>\n",
       "    <tr>\n",
       "      <th>8</th>\n",
       "      <td>0.07</td>\n",
       "      <td>0</td>\n",
       "      <td>True</td>\n",
       "      <td>20380</td>\n",
       "      <td>326920</td>\n",
       "      <td>33.777263</td>\n",
       "    </tr>\n",
       "    <tr>\n",
       "      <th>9</th>\n",
       "      <td>0.07</td>\n",
       "      <td>0</td>\n",
       "      <td>False</td>\n",
       "      <td>22697</td>\n",
       "      <td>244702</td>\n",
       "      <td>25.282528</td>\n",
       "    </tr>\n",
       "    <tr>\n",
       "      <th>10</th>\n",
       "      <td>0.08</td>\n",
       "      <td>0</td>\n",
       "      <td>True</td>\n",
       "      <td>20180</td>\n",
       "      <td>339198</td>\n",
       "      <td>35.045822</td>\n",
       "    </tr>\n",
       "    <tr>\n",
       "      <th>11</th>\n",
       "      <td>0.08</td>\n",
       "      <td>0</td>\n",
       "      <td>False</td>\n",
       "      <td>22608</td>\n",
       "      <td>245589</td>\n",
       "      <td>25.374172</td>\n",
       "    </tr>\n",
       "    <tr>\n",
       "      <th>12</th>\n",
       "      <td>0.09</td>\n",
       "      <td>0</td>\n",
       "      <td>True</td>\n",
       "      <td>20120</td>\n",
       "      <td>344435</td>\n",
       "      <td>35.586907</td>\n",
       "    </tr>\n",
       "    <tr>\n",
       "      <th>13</th>\n",
       "      <td>0.09</td>\n",
       "      <td>0</td>\n",
       "      <td>False</td>\n",
       "      <td>22606</td>\n",
       "      <td>259674</td>\n",
       "      <td>26.829430</td>\n",
       "    </tr>\n",
       "    <tr>\n",
       "      <th>14</th>\n",
       "      <td>0.10</td>\n",
       "      <td>0</td>\n",
       "      <td>True</td>\n",
       "      <td>20136</td>\n",
       "      <td>359866</td>\n",
       "      <td>37.181233</td>\n",
       "    </tr>\n",
       "    <tr>\n",
       "      <th>15</th>\n",
       "      <td>0.10</td>\n",
       "      <td>0</td>\n",
       "      <td>False</td>\n",
       "      <td>22525</td>\n",
       "      <td>276031</td>\n",
       "      <td>28.519429</td>\n",
       "    </tr>\n",
       "  </tbody>\n",
       "</table>\n",
       "</div>"
      ],
      "text/plain": [
       "     Sim  MaxWords  Lemma  UniqueWords  CondensatedWords  Condensated\n",
       "0   0.03         0   True        21948            215483    22.263630\n",
       "1   0.03         0  False        23896            145915    15.075888\n",
       "2   0.04         0   True        21414            241581    24.960067\n",
       "3   0.04         0  False        23554            171630    17.732753\n",
       "4   0.05         0   True        20944            305742    31.589160\n",
       "5   0.05         0  False        23154            231934    23.963342\n",
       "6   0.06         0   True        20440            324353    33.512042\n",
       "7   0.06         0  False        22851            235378    24.319175\n",
       "8   0.07         0   True        20380            326920    33.777263\n",
       "9   0.07         0  False        22697            244702    25.282528\n",
       "10  0.08         0   True        20180            339198    35.045822\n",
       "11  0.08         0  False        22608            245589    25.374172\n",
       "12  0.09         0   True        20120            344435    35.586907\n",
       "13  0.09         0  False        22606            259674    26.829430\n",
       "14  0.10         0   True        20136            359866    37.181233\n",
       "15  0.10         0  False        22525            276031    28.519429"
      ]
     },
     "execution_count": 160,
     "metadata": {},
     "output_type": "execute_result"
    }
   ],
   "source": [
    "dfSim"
   ]
  },
  {
   "cell_type": "code",
   "execution_count": 166,
   "metadata": {
    "collapsed": false
   },
   "outputs": [],
   "source": [
    "fig = plt.figure()\n",
    "ax = fig.add_subplot(111)\n",
    "dataVariants = [[0, True, 'orange'], [0, False, '#25e6e9']]\n",
    "plt.xlabel('Similarity Rate', fontsize=16)\n",
    "\n",
    "barWidth = 0.6 / len(dataVariants)\n",
    "idx = 0\n",
    "for variant in dataVariants:\n",
    "    dtTemp = dfSim[dfSim['Lemma'] == variant[1]].reset_index(drop=True)\n",
    "    dtTemp.index = dtTemp['Sim'].values\n",
    "    dtTemp['UniqueWords'].plot.bar(rot=45, ax=ax, position=idx,\n",
    "                                   color=variant[2], width=barWidth,\n",
    "                                   fontsize=14,\n",
    "                             label='Lemma={}'.format(variant[1]))\n",
    "    idx += 1\n",
    "    \n",
    "plt.ylabel('Condensation Rate', fontsize=18)\n",
    "plt.legend(loc='upper left', fontsize=16)\n",
    "#ax2.set_ylabel('Turns per Docket', fontsize=18)\n",
    "plt.show()"
   ]
  },
  {
   "cell_type": "code",
   "execution_count": null,
   "metadata": {
    "collapsed": true
   },
   "outputs": [],
   "source": []
  },
  {
   "cell_type": "code",
   "execution_count": null,
   "metadata": {
    "collapsed": true
   },
   "outputs": [],
   "source": []
  }
 ],
 "metadata": {
  "kernelspec": {
   "display_name": "Python 2",
   "language": "python",
   "name": "python2"
  },
  "language_info": {
   "codemirror_mode": {
    "name": "ipython",
    "version": 2
   },
   "file_extension": ".py",
   "mimetype": "text/x-python",
   "name": "python",
   "nbconvert_exporter": "python",
   "pygments_lexer": "ipython2",
   "version": "2.7.12"
  }
 },
 "nbformat": 4,
 "nbformat_minor": 0
}
