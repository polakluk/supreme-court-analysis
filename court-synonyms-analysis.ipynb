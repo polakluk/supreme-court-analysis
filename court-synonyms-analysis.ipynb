{
 "cells": [
  {
   "cell_type": "code",
   "execution_count": 1,
   "metadata": {
    "collapsed": true
   },
   "outputs": [],
   "source": [
    "import pandas as pd\n",
    "import nltk\n",
    "import time"
   ]
  },
  {
   "cell_type": "code",
   "execution_count": 2,
   "metadata": {
    "collapsed": true
   },
   "outputs": [],
   "source": [
    "df = pd.read_csv('./report-data/dialog.csv')"
   ]
  },
  {
   "cell_type": "code",
   "execution_count": 3,
   "metadata": {
    "collapsed": false,
    "scrolled": true
   },
   "outputs": [
    {
     "data": {
      "text/html": [
       "<div>\n",
       "<table border=\"1\" class=\"dataframe\">\n",
       "  <thead>\n",
       "    <tr style=\"text-align: right;\">\n",
       "      <th></th>\n",
       "      <th>role</th>\n",
       "      <th>name</th>\n",
       "      <th>text</th>\n",
       "      <th>was interrupted</th>\n",
       "      <th>turn</th>\n",
       "      <th>sentiment</th>\n",
       "      <th>idx</th>\n",
       "      <th>docket</th>\n",
       "    </tr>\n",
       "  </thead>\n",
       "  <tbody>\n",
       "    <tr>\n",
       "      <th>0</th>\n",
       "      <td>justice</td>\n",
       "      <td>ROBERTS</td>\n",
       "      <td>We will hear argument first this morning in Ca...</td>\n",
       "      <td>0</td>\n",
       "      <td>0</td>\n",
       "      <td>0</td>\n",
       "      <td>0</td>\n",
       "      <td>12-1226_4d46</td>\n",
       "    </tr>\n",
       "    <tr>\n",
       "      <th>1</th>\n",
       "      <td>other</td>\n",
       "      <td>BAGENSTOS</td>\n",
       "      <td>Thank you, Mr. Chief Justice, and may it pleas...</td>\n",
       "      <td>0</td>\n",
       "      <td>1</td>\n",
       "      <td>0</td>\n",
       "      <td>1</td>\n",
       "      <td>12-1226_4d46</td>\n",
       "    </tr>\n",
       "    <tr>\n",
       "      <th>2</th>\n",
       "      <td>justice</td>\n",
       "      <td>KENNEDY</td>\n",
       "      <td>Well, what you make it sound as if the only co...</td>\n",
       "      <td>0</td>\n",
       "      <td>2</td>\n",
       "      <td>-1</td>\n",
       "      <td>2</td>\n",
       "      <td>12-1226_4d46</td>\n",
       "    </tr>\n",
       "    <tr>\n",
       "      <th>3</th>\n",
       "      <td>other</td>\n",
       "      <td>BAGENSTOS</td>\n",
       "      <td>Well, I -- so I think on the summary judgment ...</td>\n",
       "      <td>1</td>\n",
       "      <td>3</td>\n",
       "      <td>0</td>\n",
       "      <td>3</td>\n",
       "      <td>12-1226_4d46</td>\n",
       "    </tr>\n",
       "    <tr>\n",
       "      <th>4</th>\n",
       "      <td>justice</td>\n",
       "      <td>SOTOMAYOR</td>\n",
       "      <td>I'm sorry. I'm confused.</td>\n",
       "      <td>0</td>\n",
       "      <td>4</td>\n",
       "      <td>0</td>\n",
       "      <td>4</td>\n",
       "      <td>12-1226_4d46</td>\n",
       "    </tr>\n",
       "    <tr>\n",
       "      <th>5</th>\n",
       "      <td>justice</td>\n",
       "      <td>KENNEDY</td>\n",
       "      <td>Well, I mean, I think that's a necessary start...</td>\n",
       "      <td>0</td>\n",
       "      <td>5</td>\n",
       "      <td>0</td>\n",
       "      <td>5</td>\n",
       "      <td>12-1226_4d46</td>\n",
       "    </tr>\n",
       "    <tr>\n",
       "      <th>6</th>\n",
       "      <td>other</td>\n",
       "      <td>BAGENSTOS</td>\n",
       "      <td>Well, I -- Your Honor, I would submit that tha...</td>\n",
       "      <td>1</td>\n",
       "      <td>6</td>\n",
       "      <td>0</td>\n",
       "      <td>6</td>\n",
       "      <td>12-1226_4d46</td>\n",
       "    </tr>\n",
       "    <tr>\n",
       "      <th>7</th>\n",
       "      <td>justice</td>\n",
       "      <td>GINSBURG</td>\n",
       "      <td>Mr. Bagenstos, what would your case be if -- l...</td>\n",
       "      <td>0</td>\n",
       "      <td>7</td>\n",
       "      <td>0</td>\n",
       "      <td>7</td>\n",
       "      <td>12-1226_4d46</td>\n",
       "    </tr>\n",
       "    <tr>\n",
       "      <th>8</th>\n",
       "      <td>other</td>\n",
       "      <td>BAGENSTOS</td>\n",
       "      <td>Yes. So in that case, our position would be, a...</td>\n",
       "      <td>1</td>\n",
       "      <td>8</td>\n",
       "      <td>0</td>\n",
       "      <td>8</td>\n",
       "      <td>12-1226_4d46</td>\n",
       "    </tr>\n",
       "    <tr>\n",
       "      <th>9</th>\n",
       "      <td>justice</td>\n",
       "      <td>SCALIA</td>\n",
       "      <td>Most favored nations treatment.</td>\n",
       "      <td>0</td>\n",
       "      <td>9</td>\n",
       "      <td>0</td>\n",
       "      <td>9</td>\n",
       "      <td>12-1226_4d46</td>\n",
       "    </tr>\n",
       "  </tbody>\n",
       "</table>\n",
       "</div>"
      ],
      "text/plain": [
       "      role       name                                               text  \\\n",
       "0  justice    ROBERTS  We will hear argument first this morning in Ca...   \n",
       "1    other  BAGENSTOS  Thank you, Mr. Chief Justice, and may it pleas...   \n",
       "2  justice    KENNEDY  Well, what you make it sound as if the only co...   \n",
       "3    other  BAGENSTOS  Well, I -- so I think on the summary judgment ...   \n",
       "4  justice  SOTOMAYOR                           I'm sorry. I'm confused.   \n",
       "5  justice    KENNEDY  Well, I mean, I think that's a necessary start...   \n",
       "6    other  BAGENSTOS  Well, I -- Your Honor, I would submit that tha...   \n",
       "7  justice   GINSBURG  Mr. Bagenstos, what would your case be if -- l...   \n",
       "8    other  BAGENSTOS  Yes. So in that case, our position would be, a...   \n",
       "9  justice     SCALIA                    Most favored nations treatment.   \n",
       "\n",
       "   was interrupted  turn  sentiment  idx        docket  \n",
       "0                0     0          0    0  12-1226_4d46  \n",
       "1                0     1          0    1  12-1226_4d46  \n",
       "2                0     2         -1    2  12-1226_4d46  \n",
       "3                1     3          0    3  12-1226_4d46  \n",
       "4                0     4          0    4  12-1226_4d46  \n",
       "5                0     5          0    5  12-1226_4d46  \n",
       "6                1     6          0    6  12-1226_4d46  \n",
       "7                0     7          0    7  12-1226_4d46  \n",
       "8                1     8          0    8  12-1226_4d46  \n",
       "9                0     9          0    9  12-1226_4d46  "
      ]
     },
     "execution_count": 3,
     "metadata": {},
     "output_type": "execute_result"
    }
   ],
   "source": [
    "df[:10]"
   ]
  },
  {
   "cell_type": "code",
   "execution_count": 4,
   "metadata": {
    "collapsed": false
   },
   "outputs": [
    {
     "data": {
      "text/plain": [
       "'We will hear argument first this morning in Case 12-1226, Young V. United Parcel Service. Mr. Bagenstos. ORAL ARGUMENT OF SAMUEL BAGENSTOS ON BEHALF OF THE PETITIONER'"
      ]
     },
     "execution_count": 4,
     "metadata": {},
     "output_type": "execute_result"
    }
   ],
   "source": [
    "df['text'][0]"
   ]
  },
  {
   "cell_type": "code",
   "execution_count": 5,
   "metadata": {
    "collapsed": true
   },
   "outputs": [],
   "source": [
    "def strip_interpunction(word):\n",
    "    if len(word) == 0:\n",
    "        return word\n",
    "    start = 0\n",
    "    end = len(word)\n",
    "    if word[0] in '.,/;\\'\"!?-':\n",
    "        start = 1\n",
    "    if word[end-1] in '.,/;\\'\"!?-':\n",
    "        end -= 1\n",
    "        \n",
    "    return word[start:end].lower()\n",
    "\n",
    "\n",
    "def extract_words(row):\n",
    "    row['text'] = str(row['text']) if str(row['text']) != 'nan' else ''\n",
    "    words = row['text'].split(' ')\n",
    "    final_words = [strip_interpunction(word.strip()) for word in words]\n",
    "    row['words'] = final_words\n",
    "    return row"
   ]
  },
  {
   "cell_type": "code",
   "execution_count": 6,
   "metadata": {
    "collapsed": false
   },
   "outputs": [
    {
     "name": "stdout",
     "output_type": "stream",
     "text": [
      "0     27\n",
      "1    119\n",
      "2     58\n",
      "3     71\n",
      "4      4\n",
      "5     26\n",
      "6     99\n",
      "7     48\n",
      "8     38\n",
      "9      4\n",
      "Name: words, dtype: int64\n"
     ]
    }
   ],
   "source": [
    "df_test = df[:10].apply(lambda row: extract_words(row), axis=1)\n",
    "print(df_test['words'].apply(lambda cell: len(cell)))"
   ]
  },
  {
   "cell_type": "code",
   "execution_count": 7,
   "metadata": {
    "collapsed": false,
    "scrolled": true
   },
   "outputs": [],
   "source": [
    "df = df.apply(lambda row: extract_words(row), axis=1)"
   ]
  },
  {
   "cell_type": "code",
   "execution_count": 8,
   "metadata": {
    "collapsed": false,
    "scrolled": true
   },
   "outputs": [
    {
     "data": {
      "text/plain": [
       "0        None\n",
       "1        None\n",
       "2        None\n",
       "3        None\n",
       "4        None\n",
       "5        None\n",
       "6        None\n",
       "7        None\n",
       "8        None\n",
       "9        None\n",
       "10       None\n",
       "11       None\n",
       "12       None\n",
       "13       None\n",
       "14       None\n",
       "15       None\n",
       "16       None\n",
       "17       None\n",
       "18       None\n",
       "19       None\n",
       "20       None\n",
       "21       None\n",
       "22       None\n",
       "23       None\n",
       "24       None\n",
       "25       None\n",
       "26       None\n",
       "27       None\n",
       "28       None\n",
       "29       None\n",
       "         ... \n",
       "29293    None\n",
       "29294    None\n",
       "29295    None\n",
       "29296    None\n",
       "29297    None\n",
       "29298    None\n",
       "29299    None\n",
       "29300    None\n",
       "29301    None\n",
       "29302    None\n",
       "29303    None\n",
       "29304    None\n",
       "29305    None\n",
       "29306    None\n",
       "29307    None\n",
       "29308    None\n",
       "29309    None\n",
       "29310    None\n",
       "29311    None\n",
       "29312    None\n",
       "29313    None\n",
       "29314    None\n",
       "29315    None\n",
       "29316    None\n",
       "29317    None\n",
       "29318    None\n",
       "29319    None\n",
       "29320    None\n",
       "29321    None\n",
       "29322    None\n",
       "dtype: object"
      ]
     },
     "execution_count": 8,
     "metadata": {},
     "output_type": "execute_result"
    }
   ],
   "source": [
    "all_words = []\n",
    "df.apply(lambda row: all_words.extend(row['words']), axis=1)"
   ]
  },
  {
   "cell_type": "code",
   "execution_count": 9,
   "metadata": {
    "collapsed": false
   },
   "outputs": [
    {
     "data": {
      "text/plain": [
       "1414257"
      ]
     },
     "execution_count": 9,
     "metadata": {},
     "output_type": "execute_result"
    }
   ],
   "source": [
    "len(all_words)"
   ]
  },
  {
   "cell_type": "code",
   "execution_count": 10,
   "metadata": {
    "collapsed": false
   },
   "outputs": [],
   "source": [
    "freq = nltk.FreqDist(all_words)"
   ]
  },
  {
   "cell_type": "code",
   "execution_count": 11,
   "metadata": {
    "collapsed": false
   },
   "outputs": [],
   "source": [
    "idx = 0\n",
    "freq_dict = dict(freq)"
   ]
  },
  {
   "cell_type": "code",
   "execution_count": 12,
   "metadata": {
    "collapsed": false
   },
   "outputs": [],
   "source": [
    "from tools.synonyms.lin import Lin"
   ]
  },
  {
   "cell_type": "code",
   "execution_count": 13,
   "metadata": {
    "collapsed": true
   },
   "outputs": [],
   "source": [
    "syns_reader = Lin()"
   ]
  },
  {
   "cell_type": "code",
   "execution_count": 14,
   "metadata": {
    "collapsed": false,
    "scrolled": true
   },
   "outputs": [],
   "source": [
    "syns_reader.SetSimilarity(0.03)\n",
    "test = syns_reader.GetSynonyms('argument')"
   ]
  },
  {
   "cell_type": "code",
   "execution_count": 15,
   "metadata": {
    "collapsed": false
   },
   "outputs": [
    {
     "data": {
      "text/plain": [
       "['assertion', 'argument', 'appeal', 'claim', 'debate', 'testimony']"
      ]
     },
     "execution_count": 15,
     "metadata": {},
     "output_type": "execute_result"
    }
   ],
   "source": [
    "sorted(test, key= lambda cell: cell[1], reverse=True)"
   ]
  },
  {
   "cell_type": "code",
   "execution_count": 16,
   "metadata": {
    "collapsed": false
   },
   "outputs": [
    {
     "name": "stdout",
     "output_type": "stream",
     "text": [
      "Timed: 124.229000092\n"
     ]
    },
    {
     "data": {
      "text/plain": [
       "28229"
      ]
     },
     "execution_count": 16,
     "metadata": {},
     "output_type": "execute_result"
    }
   ],
   "source": [
    "all_words_syns = []\n",
    "tStart = time.time()\n",
    "for w in all_words:\n",
    "    current_words = syns_reader.GetSynonyms(w)\n",
    "    all_words_syns.extend(current_words)\n",
    "\n",
    "tEnd = time.time()\n",
    "print(\"Timed: {}\".format(tEnd-tStart))\n",
    "all_words_syns_set = set(all_words_syns)\n",
    "len(all_words_syns_set)"
   ]
  },
  {
   "cell_type": "code",
   "execution_count": 17,
   "metadata": {
    "collapsed": true
   },
   "outputs": [],
   "source": [
    "syns_reader_all = Lin()\n",
    "syns_reader_all.SetSimilarity(0.03)\n",
    "syns_reader_all.SetMaxWords(0)\n"
   ]
  },
  {
   "cell_type": "code",
   "execution_count": 22,
   "metadata": {
    "collapsed": false
   },
   "outputs": [
    {
     "name": "stdout",
     "output_type": "stream",
     "text": [
      "Timed: 124.463000059\n"
     ]
    },
    {
     "data": {
      "text/plain": [
       "6214861"
      ]
     },
     "execution_count": 22,
     "metadata": {},
     "output_type": "execute_result"
    }
   ],
   "source": [
    "all_words_syns_all = []\n",
    "tStart = time.time()\n",
    "for w in all_words:\n",
    "    current_words = syns_reader_all.GetSynonyms(w)\n",
    "    all_words_syns_all.extend(current_words)\n",
    "\n",
    "tEnd = time.time()\n",
    "print(\"Timed: {}\".format(tEnd-tStart))\n",
    "all_words_syns_all_set = set(all_words_syns_all)\n",
    "len(all_words_syns_all)"
   ]
  },
  {
   "cell_type": "code",
   "execution_count": 23,
   "metadata": {
    "collapsed": true
   },
   "outputs": [],
   "source": [
    "syns_reader_lemma = Lin()\n",
    "syns_reader_lemma.SetSimilarity(0.03)\n",
    "syns_reader_lemma.SetUseLemma(False)"
   ]
  },
  {
   "cell_type": "code",
   "execution_count": 24,
   "metadata": {
    "collapsed": false
   },
   "outputs": [
    {
     "name": "stdout",
     "output_type": "stream",
     "text": [
      "Timed: 124.208999872\n"
     ]
    },
    {
     "data": {
      "text/plain": [
       "34824"
      ]
     },
     "execution_count": 24,
     "metadata": {},
     "output_type": "execute_result"
    }
   ],
   "source": [
    "all_words_syns_not_lemma = []\n",
    "tStart = time.time()\n",
    "for w in all_words:\n",
    "    current_words = syns_reader_all.GetSynonyms(w)\n",
    "    all_words_syns_not_lemma.extend(current_words)\n",
    "\n",
    "tEnd = time.time()\n",
    "print(\"Timed: {}\".format(tEnd-tStart))\n",
    "all_words_syns_not_lemma_set = set(all_words_syns_not_lemma)\n",
    "len(all_words_syns_not_lemma_set)"
   ]
  },
  {
   "cell_type": "code",
   "execution_count": 25,
   "metadata": {
    "collapsed": false
   },
   "outputs": [
    {
     "name": "stdout",
     "output_type": "stream",
     "text": [
      "Timed: 126.514000177\n"
     ]
    },
    {
     "data": {
      "text/plain": [
       "34824"
      ]
     },
     "execution_count": 25,
     "metadata": {},
     "output_type": "execute_result"
    }
   ],
   "source": [
    "syns_reader_lemma.SetMaxWords(0)\n",
    "all_words_syns_not_lemma_all_words = []\n",
    "tStart = time.time()\n",
    "for w in all_words:\n",
    "    current_words = syns_reader_all.GetSynonyms(w)\n",
    "    all_words_syns_not_lemma_all_words.extend(current_words)\n",
    "\n",
    "tEnd = time.time()\n",
    "print(\"Timed: {}\".format(tEnd-tStart))\n",
    "all_words_syns_not_lemma_all_words_set = set(all_words_syns_not_lemma_all_words)\n",
    "len(all_words_syns_not_lemma_all_words_set)"
   ]
  },
  {
   "cell_type": "code",
   "execution_count": 27,
   "metadata": {
    "collapsed": true
   },
   "outputs": [],
   "source": [
    "testing = [[0.03, 0, True], [0.03, 0, False], [0.03, 5, True], [0.03, 5, False],\n",
    "            [0.02, 0, True], [0.02, 0, False], [0.02, 5, True], [0.02, 5, False],\n",
    "          [0.04, 0, True], [0.04, 0, False], [0.04, 5, True], [0.04, 5, False],\n",
    "          [0.03, 0, True], [0.03, 0, False], [0.03, 6, True], [0.03, 6, False],\n",
    "          [0.04, 0, True], [0.04, 0, False], [0.04, 6, True], [0.04, 6, False]]\n",
    "syns_reader_test = Lin()"
   ]
  },
  {
   "cell_type": "code",
   "execution_count": 30,
   "metadata": {
    "collapsed": false
   },
   "outputs": [
    {
     "name": "stdout",
     "output_type": "stream",
     "text": [
      "Test sim = 0.03; words = 0; Lemma = True ===> 34824    ()\n",
      "Test sim = 0.03; words = 0; Lemma = False ===> 34742    ()\n",
      "Test sim = 0.03; words = 5; Lemma = True ===> 28229    ()\n",
      "Test sim = 0.03; words = 5; Lemma = False ===> 28177    ()\n",
      "Test sim = 0.02; words = 0; Lemma = True ===> 29925    ()\n",
      "Test sim = 0.02; words = 0; Lemma = False ===> 29891    ()\n",
      "Test sim = 0.02; words = 5; Lemma = True ===> 27354    ()\n",
      "Test sim = 0.02; words = 5; Lemma = False ===> 27297    ()\n",
      "Test sim = 0.04; words = 0; Lemma = True ===> 39664    ()\n",
      "Test sim = 0.04; words = 0; Lemma = False ===> 39376    ()\n",
      "Test sim = 0.04; words = 5; Lemma = True ===> 28786    ()\n",
      "Test sim = 0.04; words = 5; Lemma = False ===> 28732    ()\n",
      "Test sim = 0.03; words = 0; Lemma = True ===> 34824    ()\n",
      "Test sim = 0.03; words = 0; Lemma = False ===> 34742    ()\n",
      "Test sim = 0.03; words = 6; Lemma = True ===> 28755    ()\n",
      "Test sim = 0.03; words = 6; Lemma = False ===> 28704    ()\n",
      "Test sim = 0.04; words = 0; Lemma = True ===> 39664    ()\n",
      "Test sim = 0.04; words = 0; Lemma = False ===> 39376    ()\n",
      "Test sim = 0.04; words = 6; Lemma = True ===> 29444    ()\n",
      "Test sim = 0.04; words = 6; Lemma = False ===> 29388    ()\n"
     ]
    }
   ],
   "source": [
    "words_list = {}\n",
    "words_list_set = {}\n",
    "for test in testing:\n",
    "    test_key = '{}-{}-{}'.format(test[0], test[1], test[2])\n",
    "    words_list[test_key] = []\n",
    "    syns_reader_test.SetSimilarity(test[0])\n",
    "    syns_reader_test.SetMaxWords(test[1])\n",
    "    syns_reader_test.SetUseLemma(test[2])\n",
    "    tStart = time.time()\n",
    "    for w in all_words:\n",
    "        current_words = syns_reader_test.GetSynonyms(w)\n",
    "        words_list[test_key].extend(current_words)\n",
    "\n",
    "    tEnd = time.time()\n",
    "    words_list_set[test_key] = set(words_list[test_key])\n",
    "    print(\"Test sim = {}; words = {}; Lemma = {} ===> {}    {}\".format(test[0], test[1], test[2], len(words_list_set[test_key]), tEnd-tStart))\n"
   ]
  },
  {
   "cell_type": "code",
   "execution_count": null,
   "metadata": {
    "collapsed": true
   },
   "outputs": [],
   "source": []
  }
 ],
 "metadata": {
  "kernelspec": {
   "display_name": "Python 2",
   "language": "python",
   "name": "python2"
  },
  "language_info": {
   "codemirror_mode": {
    "name": "ipython",
    "version": 2
   },
   "file_extension": ".py",
   "mimetype": "text/x-python",
   "name": "python",
   "nbconvert_exporter": "python",
   "pygments_lexer": "ipython2",
   "version": "2.7.12"
  }
 },
 "nbformat": 4,
 "nbformat_minor": 0
}
