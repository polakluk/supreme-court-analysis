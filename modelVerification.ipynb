{
 "cells": [
  {
   "cell_type": "code",
   "execution_count": 99,
   "metadata": {
    "collapsed": true
   },
   "outputs": [],
   "source": [
    "import pandas as pd\n",
    "import numpy as np\n",
    "from tools.parsers import largemoviereviews as largeMovieReviewsParser\n",
    "from tools.parsers import generalinquirer as generalInquirerParser\n",
    "from tools.parsers import negation as negationParser \n",
    "import time\n",
    "import string, math\n",
    "from nltk.stem.snowball import SnowballStemmer\n",
    "\n",
    "from sklearn.metrics import accuracy_score\n",
    "from sklearn.externals import joblib\n",
    "from sklearn.ensemble import RandomForestClassifier"
   ]
  },
  {
   "cell_type": "code",
   "execution_count": 100,
   "metadata": {
    "collapsed": false
   },
   "outputs": [],
   "source": [
    "stemmer = SnowballStemmer(\"english\")\n",
    "parserMovieReviews = largeMovieReviewsParser.LargeMovieReviews()\n",
    "parserInquirer = generalInquirerParser.GeneralInquirer()\n",
    "parserNegation = negationParser.Negation()\n",
    "negations = parserNegation.readFileCsv(parserNegation.defaultFileNameProcessed)"
   ]
  },
  {
   "cell_type": "code",
   "execution_count": 101,
   "metadata": {
    "collapsed": true
   },
   "outputs": [],
   "source": [
    "sentencesData = parserMovieReviews.readFileCsv(parserMovieReviews.defaultFileNameProcessed)"
   ]
  },
  {
   "cell_type": "code",
   "execution_count": 102,
   "metadata": {
    "collapsed": false
   },
   "outputs": [
    {
     "data": {
      "text/plain": [
       "(2736, 25)"
      ]
     },
     "execution_count": 102,
     "metadata": {},
     "output_type": "execute_result"
    }
   ],
   "source": [
    "sentimentDictionaries = parserInquirer.readFileCsv(parserInquirer.combinedFileLoc)\n",
    "sentimentDictionaries['entry'] = sentimentDictionaries['entry'].map(lambda cell: stemmer.stem(cell))\n",
    "sentimentDictionaries.drop_duplicates(subset = 'entry', inplace = True)\n",
    "sentimentDictionaries.shape"
   ]
  },
  {
   "cell_type": "code",
   "execution_count": 103,
   "metadata": {
    "collapsed": false,
    "scrolled": true
   },
   "outputs": [],
   "source": [
    "negations['phraseStemmed'] = negations['phrase'].map(lambda cell: stemmer.stem(cell).lower())"
   ]
  },
  {
   "cell_type": "code",
   "execution_count": 104,
   "metadata": {
    "collapsed": true
   },
   "outputs": [],
   "source": [
    "sentencesClean = sentencesData[np.invert(sentencesData['id'].isnull())]"
   ]
  },
  {
   "cell_type": "code",
   "execution_count": 105,
   "metadata": {
    "collapsed": false
   },
   "outputs": [],
   "source": [
    "sentencesClean = sentencesClean[np.invert(sentencesClean['text'].isnull())] "
   ]
  },
  {
   "cell_type": "code",
   "execution_count": 106,
   "metadata": {
    "collapsed": false
   },
   "outputs": [
    {
     "data": {
      "text/plain": [
       "(532291, 5)"
      ]
     },
     "execution_count": 106,
     "metadata": {},
     "output_type": "execute_result"
    }
   ],
   "source": [
    "sentencesClean.shape"
   ]
  },
  {
   "cell_type": "code",
   "execution_count": 107,
   "metadata": {
    "collapsed": false
   },
   "outputs": [
    {
     "data": {
      "text/plain": [
       "(258804, 5)"
      ]
     },
     "execution_count": 107,
     "metadata": {},
     "output_type": "execute_result"
    }
   ],
   "source": [
    "sentencesClean[sentencesClean['type'] == 1].shape"
   ]
  },
  {
   "cell_type": "code",
   "execution_count": 108,
   "metadata": {
    "collapsed": true
   },
   "outputs": [],
   "source": [
    "def binSearchDfValue(df, val, start, end, isDebug = False):\n",
    "    while start <= end:\n",
    "        if isDebug:\n",
    "            print(\"Start: {};    End: {}\".format(start, end))\n",
    "        middle = (start + end) / 2\n",
    "        if isDebug:\n",
    "            print(\"middle: {}\".format(df[middle]))\n",
    "        if df[middle] == val:\n",
    "            return True\n",
    "        else:\n",
    "            if df[middle] > val:\n",
    "                end = middle - 1\n",
    "            else:\n",
    "                start = middle + 1\n",
    "    \n",
    "    return False\n",
    "\n",
    "def countOccurenceColumn(row, lookFor, lookForLen, columnName):\n",
    "    words = row['textArr']\n",
    "    res = [word for word in words if binSearchDfValue(lookFor, word, 0, lookForLen)]\n",
    "    row[columnName] = len(res)\n",
    "    return row\n",
    "\n",
    "def CalculateColumn(column, df, val = None, typeWord = None):\n",
    "    global sentimentDictionaries\n",
    "    \n",
    "    compareVal = column\n",
    "    if column == None:\n",
    "        columnName = \"All\"+typeWord\n",
    "    else:\n",
    "        if val != None:\n",
    "            compareVal = val\n",
    "        columnName = column+'Count'\n",
    "        if val != None:\n",
    "            columnName = columnName + val\n",
    "        if typeWord != None:\n",
    "            columnName = columnName + typeWord\n",
    "        \n",
    "    if typeWord == None:\n",
    "        lookFor = sentimentDictionaries[sentimentDictionaries[column] == compareVal]\n",
    "    else:\n",
    "        if column == None:\n",
    "            lookFor = sentimentDictionaries[(sentimentDictionaries['type'] == typeWord)]\n",
    "        else:\n",
    "            lookFor = sentimentDictionaries[(sentimentDictionaries[column] == compareVal) & (sentimentDictionaries['type'] == typeWord)]\n",
    "    \n",
    "    lookForVals = lookFor['entry'].values\n",
    "    lookForLen = len(lookForVals) - 1\n",
    "    print(\"LookFor shape: {}\".format(lookFor.shape))\n",
    "    df[columnName]  = 0\n",
    "    tStart = time.time()\n",
    "    df = df.apply(lambda row: countOccurenceColumn(row, lookForVals, lookForLen, columnName), axis = 1)\n",
    "    tEnd = time.time()\n",
    "    print(\"Timed({}): {}\".format(columnName, str(tEnd-tStart)))\n",
    "    \n",
    "    return df"
   ]
  },
  {
   "cell_type": "code",
   "execution_count": 109,
   "metadata": {
    "collapsed": true
   },
   "outputs": [],
   "source": [
    "import cPickle as pickle"
   ]
  },
  {
   "cell_type": "code",
   "execution_count": 13,
   "metadata": {
    "collapsed": false
   },
   "outputs": [],
   "source": [
    "with open('./large-movie-reviews.dump','rb') as fp:\n",
    "    sentencesClean = pickle.load(fp)"
   ]
  },
  {
   "cell_type": "code",
   "execution_count": 110,
   "metadata": {
    "collapsed": false,
    "scrolled": true
   },
   "outputs": [],
   "source": [
    "sentencesTest = sentencesClean[sentencesClean['set'] == 0]"
   ]
  },
  {
   "cell_type": "code",
   "execution_count": 111,
   "metadata": {
    "collapsed": false
   },
   "outputs": [
    {
     "name": "stdout",
     "output_type": "stream",
     "text": [
      "Timed: 534.390000105\n"
     ]
    }
   ],
   "source": [
    "def cleanUpWord(w):\n",
    "    return w.translate(None, string.punctuation).strip()\n",
    "\n",
    "def processWords(row):\n",
    "    global stemmer\n",
    "\n",
    "    words = [ word for word in [cleanUpWord(w) for w in row['text'].split('|')] if len(word) > 0]    \n",
    "    row['textStemmed'] = '|'.join([stemmer.stem(unicode(w, errors='ignore')) for w in words]).lower()\n",
    "    row['textStemmed'] = '|' + row['textStemmed'] + '|'\n",
    "    row['textArr'] = words\n",
    "    return row\n",
    "\n",
    "\n",
    "tStart = time.time()\n",
    "sentencesTest = sentencesTest.apply(lambda row: processWords(row), axis = 1)\n",
    "tEnd = time.time()\n",
    "print(\"Timed: {}\".format(str(tEnd - tStart)))"
   ]
  },
  {
   "cell_type": "code",
   "execution_count": 112,
   "metadata": {
    "collapsed": true
   },
   "outputs": [],
   "source": [
    "def directClassification(row, pos_column, neg_column, suffix):\n",
    "    if row[pos_column] < row[neg_column]:\n",
    "        row['apriori-class-'+suffix] = -1\n",
    "    elif row[pos_column] > row[neg_column]:\n",
    "        row['apriori-class-'+suffix] = 1\n",
    "    else:\n",
    "        row['apriori-class-'+suffix] = 0\n",
    "    \n",
    "    return row"
   ]
  },
  {
   "cell_type": "code",
   "execution_count": 113,
   "metadata": {
    "collapsed": true
   },
   "outputs": [],
   "source": [
    "def calculateSentiment(sentences, column_predicted):\n",
    "    numPositive = sentences[sentences[column_predicted] == 1].shape[0]\n",
    "    numNegative = sentences[sentences[column_predicted] == -1].shape[0]\n",
    "    numNeutral = sentences[sentences[column_predicted] == 0].shape[0]\n",
    "#    print(\"Pos = {}; Neg = {}; Neutral = {}\".format(numPositive, numNegative, numNeutral))\n",
    "    if numPositive > numNegative:\n",
    "        return 1\n",
    "    elif numPositive < numNegative:\n",
    "        return -1\n",
    "    else:\n",
    "        return 0    "
   ]
  },
  {
   "cell_type": "code",
   "execution_count": 114,
   "metadata": {
    "collapsed": false
   },
   "outputs": [],
   "source": [
    "def calculateSentimentReview(review_id, df, col):\n",
    "    review_data = review_id.split('#')\n",
    "    review_set_id = int(review_data[2])\n",
    "    review_rating = int(review_data[1])\n",
    "    review_df_id = int(review_data[0])\n",
    "    sentences = df[(df['id'] == review_df_id) & (df['set'] == review_set_id) & (df['rating'] == review_rating) ]\n",
    "    return calculateSentiment(sentences, col)"
   ]
  },
  {
   "cell_type": "code",
   "execution_count": 115,
   "metadata": {
    "collapsed": true
   },
   "outputs": [],
   "source": [
    "def generate_row_id(row):\n",
    "    row['real-id'] = \"{}#{}#{}\".format(int(row['id']), int(row['rating']), int(row['set']))\n",
    "#    print(\"{}-{}\".format(row['id'], row['set']))\n",
    "    return row"
   ]
  },
  {
   "cell_type": "code",
   "execution_count": 116,
   "metadata": {
    "collapsed": false,
    "scrolled": true
   },
   "outputs": [],
   "source": [
    "# generate expected results\n",
    "sentencesTest = sentencesTest.apply(lambda row: generate_row_id(row), axis = 1)\n",
    "unique_reviews = sentencesTest['real-id'].unique()\n",
    "expected_classes = pd.DataFrame(np.zeros((len(unique_reviews), 2)), columns = ['id','expected'])\n",
    "expected_classes['id'] = unique_reviews"
   ]
  },
  {
   "cell_type": "code",
   "execution_count": 117,
   "metadata": {
    "collapsed": false,
    "scrolled": true
   },
   "outputs": [],
   "source": [
    "expected_classes['expected'] = expected_classes['id'].map(lambda cell: calculateSentimentReview(cell, sentencesTest, 'type'))"
   ]
  },
  {
   "cell_type": "code",
   "execution_count": 118,
   "metadata": {
    "collapsed": true
   },
   "outputs": [],
   "source": [
    "def getRating(review_id):\n",
    "    review_data = review_id.split('#')\n",
    "    return int(review_data[1])"
   ]
  },
  {
   "cell_type": "code",
   "execution_count": 119,
   "metadata": {
    "collapsed": true
   },
   "outputs": [],
   "source": [
    "def calculateAccuracy(df, predicted, expected):\n",
    "    return df[df[predicted] == df[expected]].shape[0] / float(df.shape[0])"
   ]
  },
  {
   "cell_type": "code",
   "execution_count": 156,
   "metadata": {
    "collapsed": false
   },
   "outputs": [
    {
     "data": {
      "text/plain": [
       "1     5022\n",
       "10    4999\n",
       "8     2850\n",
       "4     2635\n",
       "3     2541\n",
       "9     2344\n",
       "7     2307\n",
       "2     2302\n",
       "Name: rating, dtype: int64"
      ]
     },
     "execution_count": 156,
     "metadata": {},
     "output_type": "execute_result"
    }
   ],
   "source": [
    "expected_classes['rating'] = expected_classes['id'].map(lambda cell: getRating(cell))\n",
    "expected_classes['rating'].value_counts()"
   ]
  },
  {
   "cell_type": "code",
   "execution_count": 151,
   "metadata": {
    "collapsed": true
   },
   "outputs": [],
   "source": [
    "def even_values_cuts(df, ratio_partition, col):\n",
    "    perm_df = df.reindex(np.random.permutation(df.index))\n",
    "    res_df = pd.DataFrame({}, columns = df.columns)\n",
    "    unique_parts = perm_df[col].unique()\n",
    "    for unique in unique_parts:\n",
    "        selected_rows = perm_df[perm_df[col] == unique]\n",
    "        num_parts = int(selected_rows.shape[0] * ratio_partition)\n",
    "        res_df = pd.concat([res_df, selected_rows[:num_parts]])\n",
    "    \n",
    "    return res_df.reindex(np.random.permutation(res_df.index))"
   ]
  },
  {
   "cell_type": "code",
   "execution_count": 155,
   "metadata": {
    "collapsed": false
   },
   "outputs": [
    {
     "data": {
      "text/plain": [
       "1     502\n",
       "10    499\n",
       "8     285\n",
       "4     263\n",
       "3     254\n",
       "9     234\n",
       "7     230\n",
       "2     230\n",
       "Name: rating, dtype: int64"
      ]
     },
     "execution_count": 155,
     "metadata": {},
     "output_type": "execute_result"
    }
   ],
   "source": [
    "test_reviews = even_values_cuts(expected_classes, 0.1, 'rating')\n",
    "test_reviews['rating'].value_counts()"
   ]
  },
  {
   "cell_type": "code",
   "execution_count": 190,
   "metadata": {
    "collapsed": false
   },
   "outputs": [],
   "source": [
    "def equal_cuts(df, size_df, col):\n",
    "    perm_df = df.reindex(np.random.permutation(df.index))\n",
    "    res_df = pd.DataFrame({}, columns = df.columns)\n",
    "    unique_parts = perm_df[col].unique()\n",
    "    num_parts = int(size_df / len(unique_parts)) \n",
    "    for unique in unique_parts:\n",
    "        selected_rows = perm_df[perm_df[col] == unique]\n",
    "        res_df = pd.concat([res_df, selected_rows[:num_parts]])\n",
    "    \n",
    "    return res_df.reindex(np.random.permutation(res_df.index))"
   ]
  },
  {
   "cell_type": "code",
   "execution_count": 191,
   "metadata": {
    "collapsed": false
   },
   "outputs": [
    {
     "data": {
      "text/plain": [
       "10    312\n",
       "9     312\n",
       "8     312\n",
       "7     312\n",
       "4     312\n",
       "3     312\n",
       "2     312\n",
       "1     312\n",
       "Name: rating, dtype: int64"
      ]
     },
     "execution_count": 191,
     "metadata": {},
     "output_type": "execute_result"
    }
   ],
   "source": [
    "test_reviews_even = equal_cuts(expected_classes, 2500, 'rating')\n",
    "test_reviews_even['rating'].value_counts()"
   ]
  },
  {
   "cell_type": "code",
   "execution_count": 121,
   "metadata": {
    "collapsed": false,
    "scrolled": true
   },
   "outputs": [],
   "source": [
    "expected_classes_test = pd.concat([expected_classes[:1500], expected_classes[-1500:]])"
   ]
  },
  {
   "cell_type": "code",
   "execution_count": 192,
   "metadata": {
    "collapsed": true
   },
   "outputs": [],
   "source": [
    "sentencesTestSubset = sentencesTest[sentencesTest['real-id'].isin(test_reviews_even['id'])]"
   ]
  },
  {
   "cell_type": "code",
   "execution_count": 193,
   "metadata": {
    "collapsed": false
   },
   "outputs": [
    {
     "name": "stdout",
     "output_type": "stream",
     "text": [
      "Timed: 34.6390001774\n"
     ]
    }
   ],
   "source": [
    "def countNegations(row):\n",
    "    words = row['text']\n",
    "    negations['found'] = negations.apply(lambda row: 1 if '|'+row['phrase']+'|' in words else 0, axis = 1)\n",
    "    row['negations'] = negations['found'].sum()\n",
    "    return row\n",
    "\n",
    "tStart = time.time()\n",
    "sentencesTestSubset = sentencesTestSubset.apply(lambda row: countNegations(row), axis = 1)\n",
    "tEnd = time.time()\n",
    "print(\"Timed: {}\".format(str(tEnd-tStart)))"
   ]
  },
  {
   "cell_type": "code",
   "execution_count": 194,
   "metadata": {
    "collapsed": false
   },
   "outputs": [
    {
     "name": "stdout",
     "output_type": "stream",
     "text": [
      "LookFor shape: (965, 25)\n",
      "Timed(positivCount): 7.6130001545\n"
     ]
    }
   ],
   "source": [
    "sentencesTestSubset = CalculateColumn('positiv', sentencesTestSubset)"
   ]
  },
  {
   "cell_type": "code",
   "execution_count": 195,
   "metadata": {
    "collapsed": false
   },
   "outputs": [
    {
     "name": "stdout",
     "output_type": "stream",
     "text": [
      "LookFor shape: (965, 25)\n",
      "Timed(positivCount): 7.38000011444\n",
      "LookFor shape: (1421, 25)\n",
      "Timed(negativCount): 7.76800012589\n"
     ]
    }
   ],
   "source": [
    "sentencesTestSubset = CalculateColumn('positiv', sentencesTestSubset)\n",
    "sentencesTestSubset = CalculateColumn('negativ', sentencesTestSubset)"
   ]
  },
  {
   "cell_type": "code",
   "execution_count": 196,
   "metadata": {
    "collapsed": true
   },
   "outputs": [],
   "source": [
    "def countOccurenceColumnBeforeAfter(row, lookFor, columnName):\n",
    "    global negations\n",
    "    for _, neg_row in negations.iterrows():\n",
    "        neg = '|'+neg_row['phrase']+'|'\n",
    "        neg_stemmed = '|' + neg_row['phraseStemmed'] + '|'\n",
    "        posNeg = row['text'].find(neg)\n",
    "        if posNeg == -1 :\n",
    "            return row\n",
    "        posNeg = row['textStemmed'].find(neg_stemmed)\n",
    "\n",
    "        afterPos = posNeg + len(neg_stemmed)\n",
    "        for _, rowLook in lookFor.iterrows():\n",
    "            posBefore = row['textStemmed'].find(rowLook['entry'], 0, posNeg)\n",
    "            posAfter = row['textStemmed'].find(rowLook['entry'], afterPos)\n",
    "\n",
    "            if posBefore != -1:\n",
    "                row[columnName+'Before'] = row[columnName+'Before'] + 1 \n",
    "            if posAfter != -1:\n",
    "                row[columnName+'After'] = row[columnName+'After'] + 1\n",
    "\n",
    "    return row\n",
    "\n",
    "\n",
    "def WordsAroundNegations(column, df, val = None, count = False):\n",
    "    global sentimentDictionaries\n",
    "\n",
    "    columnName = column\n",
    "    compareVal = val\n",
    "    if val is None:\n",
    "        compareVal = column\n",
    "    else:\n",
    "        columnName = column + val\n",
    "    \n",
    "    if count:\n",
    "        columnName = columnName + \"Count\"\n",
    "    \n",
    "    lookFor = sentimentDictionaries[sentimentDictionaries[column] == compareVal]\n",
    "    \n",
    "    print(\"LookFor shape: {}\".format(lookFor.shape))\n",
    "    if count:\n",
    "        df[columnName+\"Before\"]  = 0\n",
    "        df[columnName+\"After\"]  = 0\n",
    "    else:\n",
    "        df[columnName+\"Before\"]  = False\n",
    "        df[columnName+\"After\"]  = False\n",
    "    tStart = time.time()\n",
    "    if count:\n",
    "        df = df.apply(lambda row: countOccurenceColumnBeforeAfter(row, lookFor, columnName), axis = 1)\n",
    "    else:\n",
    "        df[columnName+\"Before\"]  = df[columnName+\"CountBefore\"] > 0\n",
    "        df[columnName+\"After\"]  = df[columnName+\"CountAfter\"] > 0\n",
    "\n",
    "    tEnd = time.time()\n",
    "    print(\"Timed({}): {}\".format(columnName, str(tEnd-tStart)))\n",
    "    \n",
    "    return df"
   ]
  },
  {
   "cell_type": "code",
   "execution_count": 197,
   "metadata": {
    "collapsed": false
   },
   "outputs": [
    {
     "name": "stdout",
     "output_type": "stream",
     "text": [
      "LookFor shape: (439, 25)\n",
      "Timed(hostileCount): 354.480000019\n",
      "LookFor shape: (5, 25)\n",
      "Timed(yesCount): 37.9730000496\n",
      "LookFor shape: (3, 25)\n",
      "Timed(noCount): 35.7060000896\n",
      "LookFor shape: (1552, 25)\n",
      "Timed(priorpolaritynegativeCount): 1483.93799996\n",
      "LookFor shape: (1040, 25)\n",
      "Timed(priorpolaritypositiveCount): 875.638999939\n",
      "LookFor shape: (554, 25)\n",
      "Timed(activeCount): 629.459000111\n",
      "LookFor shape: (119, 25)\n",
      "Timed(negateCount): 154.56400013\n",
      "LookFor shape: (319, 25)\n",
      "Timed(passiveCount): 377.963000059\n"
     ]
    }
   ],
   "source": [
    "sentencesTestSubset = WordsAroundNegations('hostile', sentencesTestSubset, None, True)\n",
    "sentencesTestSubset = WordsAroundNegations('yes', sentencesTestSubset, None, True)\n",
    "sentencesTestSubset = WordsAroundNegations('no', sentencesTestSubset, None, True)\n",
    "sentencesTestSubset = WordsAroundNegations('priorpolarity', sentencesTestSubset, 'negative', True)\n",
    "sentencesTestSubset = WordsAroundNegations('priorpolarity', sentencesTestSubset, 'positive', True)\n",
    "sentencesTestSubset = WordsAroundNegations('active', sentencesTestSubset, None, True)\n",
    "sentencesTestSubset = WordsAroundNegations('negate', sentencesTestSubset, None, True)\n",
    "sentencesTestSubset = WordsAroundNegations('passive', sentencesTestSubset, None, True)"
   ]
  },
  {
   "cell_type": "code",
   "execution_count": 198,
   "metadata": {
    "collapsed": false
   },
   "outputs": [
    {
     "name": "stdout",
     "output_type": "stream",
     "text": [
      "LookFor shape: (403, 25)\n",
      "Timed(positivCountweaksubj): 25.9900000095\n",
      "LookFor shape: (500, 25)\n",
      "Timed(negativCountweaksubj): 29.5629999638\n"
     ]
    }
   ],
   "source": [
    "sentencesTestSubset = CalculateColumn('positiv', sentencesTestSubset, None, 'weaksubj')\n",
    "sentencesTestSubset = CalculateColumn('negativ', sentencesTestSubset, None, 'weaksubj')"
   ]
  },
  {
   "cell_type": "code",
   "execution_count": 199,
   "metadata": {
    "collapsed": false
   },
   "outputs": [
    {
     "name": "stdout",
     "output_type": "stream",
     "text": [
      "LookFor shape: (439, 25)\n",
      "Timed(hostile): 0.00699996948242\n",
      "LookFor shape: (5, 25)\n",
      "Timed(yes): 0.000999927520752\n",
      "LookFor shape: (3, 25)\n",
      "Timed(no): 0.0\n",
      "LookFor shape: (1552, 25)\n",
      "Timed(priorpolaritynegative): 0.000999927520752\n",
      "LookFor shape: (1040, 25)\n",
      "Timed(priorpolaritypositive): 0.000999927520752\n",
      "LookFor shape: (119, 25)\n",
      "Timed(negate): 0.0\n",
      "LookFor shape: (319, 25)\n",
      "Timed(passive): 0.00100016593933\n"
     ]
    }
   ],
   "source": [
    "sentencesTestSubset = WordsAroundNegations('hostile', sentencesTestSubset)\n",
    "sentencesTestSubset = WordsAroundNegations('yes', sentencesTestSubset)\n",
    "sentencesTestSubset = WordsAroundNegations('no', sentencesTestSubset)\n",
    "sentencesTestSubset = WordsAroundNegations('priorpolarity', sentencesTestSubset, 'negative')\n",
    "sentencesTestSubset = WordsAroundNegations('priorpolarity', sentencesTestSubset, 'positive')\n",
    "sentencesTestSubset = WordsAroundNegations('negate', sentencesTestSubset)\n",
    "sentencesTestSubset = WordsAroundNegations('passive', sentencesTestSubset)"
   ]
  },
  {
   "cell_type": "code",
   "execution_count": 200,
   "metadata": {
    "collapsed": false
   },
   "outputs": [
    {
     "name": "stdout",
     "output_type": "stream",
     "text": [
      "LookFor shape: (972, 25)\n",
      "Timed(priorpolarityCountnegativestrongsubj): 32.378000021\n",
      "LookFor shape: (584, 25)\n",
      "Timed(priorpolarityCountpositivestrongsubj): 33.3130002022\n"
     ]
    }
   ],
   "source": [
    "sentencesTestSubset = CalculateColumn('priorpolarity', sentencesTestSubset, 'negative', 'strongsubj')\n",
    "sentencesTestSubset = CalculateColumn('priorpolarity', sentencesTestSubset, 'positive', 'strongsubj')"
   ]
  },
  {
   "cell_type": "code",
   "execution_count": 201,
   "metadata": {
    "collapsed": false
   },
   "outputs": [
    {
     "name": "stdout",
     "output_type": "stream",
     "text": [
      "LookFor shape: (580, 25)\n",
      "Timed(priorpolarityCountnegativeweaksubj): 31.5899999142\n",
      "LookFor shape: (456, 25)\n",
      "Timed(priorpolarityCountpositiveweaksubj): 34.2759997845\n"
     ]
    }
   ],
   "source": [
    "sentencesTestSubset = CalculateColumn('priorpolarity', sentencesTestSubset, 'negative', 'weaksubj')\n",
    "sentencesTestSubset = CalculateColumn('priorpolarity', sentencesTestSubset, 'positive', 'weaksubj')"
   ]
  },
  {
   "cell_type": "code",
   "execution_count": 202,
   "metadata": {
    "collapsed": false
   },
   "outputs": [
    {
     "name": "stdout",
     "output_type": "stream",
     "text": [
      "LookFor shape: (1552, 25)\n",
      "Timed(priorpolarityCountnegative): 37.1159999371\n",
      "LookFor shape: (1040, 25)\n",
      "Timed(priorpolarityCountpositive): 32.9509999752\n"
     ]
    }
   ],
   "source": [
    "sentencesTestSubset = CalculateColumn('priorpolarity', sentencesTestSubset, 'negative')\n",
    "sentencesTestSubset = CalculateColumn('priorpolarity', sentencesTestSubset, 'positive')"
   ]
  },
  {
   "cell_type": "code",
   "execution_count": 203,
   "metadata": {
    "collapsed": false
   },
   "outputs": [],
   "source": [
    "sentencesTestSubset['morePositiveThanNegativeStrong'] = False\n",
    "dt = sentencesTestSubset[sentencesTestSubset['priorpolarityCountpositivestrongsubj'] > sentencesTestSubset['priorpolarityCountnegativestrongsubj'] ]\n",
    "sentencesTestSubset.loc[dt.index,'morePositiveThanNegativeStrong'] = True\n",
    "\n",
    "sentencesTestSubset['morePositiveThanNegativeWeak'] = False\n",
    "dt = sentencesTestSubset[sentencesTestSubset['priorpolarityCountpositiveweaksubj'] > sentencesTestSubset['priorpolarityCountnegativeweaksubj'] ]\n",
    "sentencesTestSubset.loc[dt.index,'morePositiveThanNegativeWeak'] = True\n",
    "\n",
    "sentencesTestSubset['morePositiveThanNegative'] = False\n",
    "dt = sentencesTestSubset[sentencesTestSubset['priorpolarityCountpositive'] > sentencesTestSubset['priorpolarityCountnegative'] ]\n",
    "sentencesTestSubset.loc[dt.index,'morePositiveThanNegative'] = True"
   ]
  },
  {
   "cell_type": "raw",
   "metadata": {
    "collapsed": true
   },
   "source": [
    "trained_clasifier = joblib.load('./models/sentiment/version_1/version_1.pkl') "
   ]
  },
  {
   "cell_type": "code",
   "execution_count": 204,
   "metadata": {
    "collapsed": false
   },
   "outputs": [],
   "source": [
    "finalData = sentencesTestSubset[['negations', 'positivCount', 'negativCount', 'priorpolaritynegativeAfter',\n",
    "'hostileBefore', 'yesBefore', 'yesAfter', 'noBefore', 'negateBefore', 'priorpolaritynegativeCountBefore',\n",
    "'priorpolaritypositiveCountBefore', 'activeCountAfter', 'passiveCountAfter', 'hostileCountAfter', \n",
    "'passiveAfter', 'morePositiveThanNegativeStrong', 'morePositiveThanNegativeWeak', 'morePositiveThanNegative',\n",
    "'priorpolaritynegativeCountAfter', 'priorpolaritypositiveAfter', 'negateAfter','priorpolaritypositiveCountAfter']]"
   ]
  },
  {
   "cell_type": "code",
   "execution_count": 205,
   "metadata": {
    "collapsed": true
   },
   "outputs": [],
   "source": [
    "sentencesTestSubset['trained-classifier-predicted'] = trained_clasifier.predict(finalData.values)"
   ]
  },
  {
   "cell_type": "code",
   "execution_count": 210,
   "metadata": {
    "collapsed": true
   },
   "outputs": [],
   "source": [
    "#test_reviews_even.loc[(test_reviews_even['rating'] > 3) & (test_reviews_even['rating'] < 7), 'expected'] = 0\n",
    "test_reviews_even.loc[test_reviews_even['rating'] > 5, 'expected'] = 1\n",
    "test_reviews_even.loc[test_reviews_even['rating'] < 5, 'expected'] = -1"
   ]
  },
  {
   "cell_type": "code",
   "execution_count": 207,
   "metadata": {
    "collapsed": false
   },
   "outputs": [
    {
     "name": "stdout",
     "output_type": "stream",
     "text": [
      "Done\n"
     ]
    }
   ],
   "source": [
    "test_reviews_even['predicted-model'] = test_reviews_even['id'].map(lambda cell: calculateSentimentReview(cell, sentencesTestSubset, 'trained-classifier-predicted'))\n",
    "print(\"Done\")"
   ]
  },
  {
   "cell_type": "code",
   "execution_count": 188,
   "metadata": {
    "collapsed": false,
    "scrolled": true
   },
   "outputs": [
    {
     "data": {
      "text/html": [
       "<div>\n",
       "<table border=\"1\" class=\"dataframe\">\n",
       "  <thead>\n",
       "    <tr style=\"text-align: right;\">\n",
       "      <th></th>\n",
       "      <th>id</th>\n",
       "      <th>expected</th>\n",
       "      <th>rating</th>\n",
       "      <th>predicted-model</th>\n",
       "      <th>predicted-direct</th>\n",
       "    </tr>\n",
       "  </thead>\n",
       "  <tbody>\n",
       "    <tr>\n",
       "      <th>22002</th>\n",
       "      <td>7302#10#0</td>\n",
       "      <td>1</td>\n",
       "      <td>10</td>\n",
       "      <td>1</td>\n",
       "      <td>0</td>\n",
       "    </tr>\n",
       "    <tr>\n",
       "      <th>8128</th>\n",
       "      <td>6066#4#0</td>\n",
       "      <td>0</td>\n",
       "      <td>4</td>\n",
       "      <td>1</td>\n",
       "      <td>1</td>\n",
       "    </tr>\n",
       "    <tr>\n",
       "      <th>20783</th>\n",
       "      <td>6205#9#0</td>\n",
       "      <td>1</td>\n",
       "      <td>9</td>\n",
       "      <td>1</td>\n",
       "      <td>1</td>\n",
       "    </tr>\n",
       "    <tr>\n",
       "      <th>13097</th>\n",
       "      <td>10538#10#0</td>\n",
       "      <td>1</td>\n",
       "      <td>10</td>\n",
       "      <td>1</td>\n",
       "      <td>1</td>\n",
       "    </tr>\n",
       "    <tr>\n",
       "      <th>2912</th>\n",
       "      <td>1371#1#0</td>\n",
       "      <td>-1</td>\n",
       "      <td>1</td>\n",
       "      <td>1</td>\n",
       "      <td>1</td>\n",
       "    </tr>\n",
       "    <tr>\n",
       "      <th>11198</th>\n",
       "      <td>882#2#0</td>\n",
       "      <td>-1</td>\n",
       "      <td>2</td>\n",
       "      <td>1</td>\n",
       "      <td>1</td>\n",
       "    </tr>\n",
       "    <tr>\n",
       "      <th>8773</th>\n",
       "      <td>6647#1#0</td>\n",
       "      <td>-1</td>\n",
       "      <td>1</td>\n",
       "      <td>1</td>\n",
       "      <td>1</td>\n",
       "    </tr>\n",
       "    <tr>\n",
       "      <th>5749</th>\n",
       "      <td>3925#2#0</td>\n",
       "      <td>-1</td>\n",
       "      <td>2</td>\n",
       "      <td>0</td>\n",
       "      <td>0</td>\n",
       "    </tr>\n",
       "    <tr>\n",
       "      <th>558</th>\n",
       "      <td>10502#1#0</td>\n",
       "      <td>-1</td>\n",
       "      <td>1</td>\n",
       "      <td>1</td>\n",
       "      <td>1</td>\n",
       "    </tr>\n",
       "    <tr>\n",
       "      <th>13138</th>\n",
       "      <td>10575#10#0</td>\n",
       "      <td>1</td>\n",
       "      <td>10</td>\n",
       "      <td>1</td>\n",
       "      <td>1</td>\n",
       "    </tr>\n",
       "    <tr>\n",
       "      <th>4143</th>\n",
       "      <td>247#2#0</td>\n",
       "      <td>-1</td>\n",
       "      <td>2</td>\n",
       "      <td>1</td>\n",
       "      <td>-1</td>\n",
       "    </tr>\n",
       "    <tr>\n",
       "      <th>10136</th>\n",
       "      <td>7874#1#0</td>\n",
       "      <td>-1</td>\n",
       "      <td>1</td>\n",
       "      <td>1</td>\n",
       "      <td>-1</td>\n",
       "    </tr>\n",
       "    <tr>\n",
       "      <th>6857</th>\n",
       "      <td>4922#1#0</td>\n",
       "      <td>-1</td>\n",
       "      <td>1</td>\n",
       "      <td>0</td>\n",
       "      <td>1</td>\n",
       "    </tr>\n",
       "    <tr>\n",
       "      <th>17799</th>\n",
       "      <td>351#10#0</td>\n",
       "      <td>1</td>\n",
       "      <td>10</td>\n",
       "      <td>1</td>\n",
       "      <td>1</td>\n",
       "    </tr>\n",
       "    <tr>\n",
       "      <th>3542</th>\n",
       "      <td>1939#2#0</td>\n",
       "      <td>-1</td>\n",
       "      <td>2</td>\n",
       "      <td>1</td>\n",
       "      <td>1</td>\n",
       "    </tr>\n",
       "    <tr>\n",
       "      <th>15279</th>\n",
       "      <td>1251#10#0</td>\n",
       "      <td>1</td>\n",
       "      <td>10</td>\n",
       "      <td>1</td>\n",
       "      <td>1</td>\n",
       "    </tr>\n",
       "    <tr>\n",
       "      <th>3079</th>\n",
       "      <td>1521#1#0</td>\n",
       "      <td>-1</td>\n",
       "      <td>1</td>\n",
       "      <td>1</td>\n",
       "      <td>1</td>\n",
       "    </tr>\n",
       "    <tr>\n",
       "      <th>8254</th>\n",
       "      <td>617#4#0</td>\n",
       "      <td>0</td>\n",
       "      <td>4</td>\n",
       "      <td>1</td>\n",
       "      <td>1</td>\n",
       "    </tr>\n",
       "    <tr>\n",
       "      <th>12945</th>\n",
       "      <td>10400#9#0</td>\n",
       "      <td>1</td>\n",
       "      <td>9</td>\n",
       "      <td>1</td>\n",
       "      <td>1</td>\n",
       "    </tr>\n",
       "    <tr>\n",
       "      <th>17249</th>\n",
       "      <td>3024#7#0</td>\n",
       "      <td>1</td>\n",
       "      <td>7</td>\n",
       "      <td>1</td>\n",
       "      <td>1</td>\n",
       "    </tr>\n",
       "    <tr>\n",
       "      <th>11403</th>\n",
       "      <td>9013#2#0</td>\n",
       "      <td>-1</td>\n",
       "      <td>2</td>\n",
       "      <td>1</td>\n",
       "      <td>-1</td>\n",
       "    </tr>\n",
       "    <tr>\n",
       "      <th>3341</th>\n",
       "      <td>1758#2#0</td>\n",
       "      <td>-1</td>\n",
       "      <td>2</td>\n",
       "      <td>1</td>\n",
       "      <td>1</td>\n",
       "    </tr>\n",
       "    <tr>\n",
       "      <th>1356</th>\n",
       "      <td>11220#1#0</td>\n",
       "      <td>-1</td>\n",
       "      <td>1</td>\n",
       "      <td>1</td>\n",
       "      <td>1</td>\n",
       "    </tr>\n",
       "    <tr>\n",
       "      <th>24840</th>\n",
       "      <td>9858#10#0</td>\n",
       "      <td>1</td>\n",
       "      <td>10</td>\n",
       "      <td>1</td>\n",
       "      <td>1</td>\n",
       "    </tr>\n",
       "    <tr>\n",
       "      <th>24565</th>\n",
       "      <td>960#8#0</td>\n",
       "      <td>1</td>\n",
       "      <td>8</td>\n",
       "      <td>1</td>\n",
       "      <td>1</td>\n",
       "    </tr>\n",
       "    <tr>\n",
       "      <th>22158</th>\n",
       "      <td>7443#8#0</td>\n",
       "      <td>1</td>\n",
       "      <td>8</td>\n",
       "      <td>1</td>\n",
       "      <td>1</td>\n",
       "    </tr>\n",
       "    <tr>\n",
       "      <th>16504</th>\n",
       "      <td>2354#8#0</td>\n",
       "      <td>1</td>\n",
       "      <td>8</td>\n",
       "      <td>1</td>\n",
       "      <td>1</td>\n",
       "    </tr>\n",
       "    <tr>\n",
       "      <th>24145</th>\n",
       "      <td>9231#8#0</td>\n",
       "      <td>1</td>\n",
       "      <td>8</td>\n",
       "      <td>0</td>\n",
       "      <td>-1</td>\n",
       "    </tr>\n",
       "    <tr>\n",
       "      <th>11081</th>\n",
       "      <td>8724#1#0</td>\n",
       "      <td>-1</td>\n",
       "      <td>1</td>\n",
       "      <td>0</td>\n",
       "      <td>-1</td>\n",
       "    </tr>\n",
       "    <tr>\n",
       "      <th>19776</th>\n",
       "      <td>529#10#0</td>\n",
       "      <td>1</td>\n",
       "      <td>10</td>\n",
       "      <td>1</td>\n",
       "      <td>1</td>\n",
       "    </tr>\n",
       "    <tr>\n",
       "      <th>...</th>\n",
       "      <td>...</td>\n",
       "      <td>...</td>\n",
       "      <td>...</td>\n",
       "      <td>...</td>\n",
       "      <td>...</td>\n",
       "    </tr>\n",
       "    <tr>\n",
       "      <th>4685</th>\n",
       "      <td>2968#1#0</td>\n",
       "      <td>-1</td>\n",
       "      <td>1</td>\n",
       "      <td>1</td>\n",
       "      <td>1</td>\n",
       "    </tr>\n",
       "    <tr>\n",
       "      <th>24364</th>\n",
       "      <td>9429#7#0</td>\n",
       "      <td>1</td>\n",
       "      <td>7</td>\n",
       "      <td>1</td>\n",
       "      <td>-1</td>\n",
       "    </tr>\n",
       "    <tr>\n",
       "      <th>3999</th>\n",
       "      <td>234#3#0</td>\n",
       "      <td>-1</td>\n",
       "      <td>3</td>\n",
       "      <td>1</td>\n",
       "      <td>1</td>\n",
       "    </tr>\n",
       "    <tr>\n",
       "      <th>10246</th>\n",
       "      <td>7973#4#0</td>\n",
       "      <td>0</td>\n",
       "      <td>4</td>\n",
       "      <td>1</td>\n",
       "      <td>1</td>\n",
       "    </tr>\n",
       "    <tr>\n",
       "      <th>23123</th>\n",
       "      <td>8311#8#0</td>\n",
       "      <td>1</td>\n",
       "      <td>8</td>\n",
       "      <td>1</td>\n",
       "      <td>1</td>\n",
       "    </tr>\n",
       "    <tr>\n",
       "      <th>20084</th>\n",
       "      <td>5577#9#0</td>\n",
       "      <td>1</td>\n",
       "      <td>9</td>\n",
       "      <td>1</td>\n",
       "      <td>1</td>\n",
       "    </tr>\n",
       "    <tr>\n",
       "      <th>15167</th>\n",
       "      <td>12400#8#0</td>\n",
       "      <td>1</td>\n",
       "      <td>8</td>\n",
       "      <td>-1</td>\n",
       "      <td>0</td>\n",
       "    </tr>\n",
       "    <tr>\n",
       "      <th>9946</th>\n",
       "      <td>7702#2#0</td>\n",
       "      <td>-1</td>\n",
       "      <td>2</td>\n",
       "      <td>1</td>\n",
       "      <td>1</td>\n",
       "    </tr>\n",
       "    <tr>\n",
       "      <th>19312</th>\n",
       "      <td>4882#9#0</td>\n",
       "      <td>1</td>\n",
       "      <td>9</td>\n",
       "      <td>-1</td>\n",
       "      <td>-1</td>\n",
       "    </tr>\n",
       "    <tr>\n",
       "      <th>24342</th>\n",
       "      <td>9409#10#0</td>\n",
       "      <td>1</td>\n",
       "      <td>10</td>\n",
       "      <td>1</td>\n",
       "      <td>1</td>\n",
       "    </tr>\n",
       "    <tr>\n",
       "      <th>12406</th>\n",
       "      <td>9917#2#0</td>\n",
       "      <td>-1</td>\n",
       "      <td>2</td>\n",
       "      <td>1</td>\n",
       "      <td>1</td>\n",
       "    </tr>\n",
       "    <tr>\n",
       "      <th>15709</th>\n",
       "      <td>1639#10#0</td>\n",
       "      <td>1</td>\n",
       "      <td>10</td>\n",
       "      <td>1</td>\n",
       "      <td>1</td>\n",
       "    </tr>\n",
       "    <tr>\n",
       "      <th>11685</th>\n",
       "      <td>9268#2#0</td>\n",
       "      <td>-1</td>\n",
       "      <td>2</td>\n",
       "      <td>1</td>\n",
       "      <td>1</td>\n",
       "    </tr>\n",
       "    <tr>\n",
       "      <th>4377</th>\n",
       "      <td>2690#1#0</td>\n",
       "      <td>-1</td>\n",
       "      <td>1</td>\n",
       "      <td>1</td>\n",
       "      <td>1</td>\n",
       "    </tr>\n",
       "    <tr>\n",
       "      <th>15953</th>\n",
       "      <td>1859#10#0</td>\n",
       "      <td>1</td>\n",
       "      <td>10</td>\n",
       "      <td>1</td>\n",
       "      <td>1</td>\n",
       "    </tr>\n",
       "    <tr>\n",
       "      <th>9756</th>\n",
       "      <td>7531#1#0</td>\n",
       "      <td>-1</td>\n",
       "      <td>1</td>\n",
       "      <td>1</td>\n",
       "      <td>1</td>\n",
       "    </tr>\n",
       "    <tr>\n",
       "      <th>7945</th>\n",
       "      <td>5901#3#0</td>\n",
       "      <td>-1</td>\n",
       "      <td>3</td>\n",
       "      <td>1</td>\n",
       "      <td>1</td>\n",
       "    </tr>\n",
       "    <tr>\n",
       "      <th>4797</th>\n",
       "      <td>3068#3#0</td>\n",
       "      <td>-1</td>\n",
       "      <td>3</td>\n",
       "      <td>1</td>\n",
       "      <td>1</td>\n",
       "    </tr>\n",
       "    <tr>\n",
       "      <th>16016</th>\n",
       "      <td>1915#8#0</td>\n",
       "      <td>1</td>\n",
       "      <td>8</td>\n",
       "      <td>1</td>\n",
       "      <td>1</td>\n",
       "    </tr>\n",
       "    <tr>\n",
       "      <th>13356</th>\n",
       "      <td>10771#8#0</td>\n",
       "      <td>1</td>\n",
       "      <td>8</td>\n",
       "      <td>1</td>\n",
       "      <td>1</td>\n",
       "    </tr>\n",
       "    <tr>\n",
       "      <th>9820</th>\n",
       "      <td>758#3#0</td>\n",
       "      <td>-1</td>\n",
       "      <td>3</td>\n",
       "      <td>1</td>\n",
       "      <td>-1</td>\n",
       "    </tr>\n",
       "    <tr>\n",
       "      <th>19677</th>\n",
       "      <td>520#10#0</td>\n",
       "      <td>1</td>\n",
       "      <td>10</td>\n",
       "      <td>1</td>\n",
       "      <td>1</td>\n",
       "    </tr>\n",
       "    <tr>\n",
       "      <th>15096</th>\n",
       "      <td>12337#9#0</td>\n",
       "      <td>1</td>\n",
       "      <td>9</td>\n",
       "      <td>1</td>\n",
       "      <td>1</td>\n",
       "    </tr>\n",
       "    <tr>\n",
       "      <th>21773</th>\n",
       "      <td>7097#10#0</td>\n",
       "      <td>1</td>\n",
       "      <td>10</td>\n",
       "      <td>1</td>\n",
       "      <td>1</td>\n",
       "    </tr>\n",
       "    <tr>\n",
       "      <th>8383</th>\n",
       "      <td>6296#1#0</td>\n",
       "      <td>-1</td>\n",
       "      <td>1</td>\n",
       "      <td>1</td>\n",
       "      <td>-1</td>\n",
       "    </tr>\n",
       "    <tr>\n",
       "      <th>10707</th>\n",
       "      <td>8388#1#0</td>\n",
       "      <td>-1</td>\n",
       "      <td>1</td>\n",
       "      <td>0</td>\n",
       "      <td>-1</td>\n",
       "    </tr>\n",
       "    <tr>\n",
       "      <th>935</th>\n",
       "      <td>10842#1#0</td>\n",
       "      <td>-1</td>\n",
       "      <td>1</td>\n",
       "      <td>1</td>\n",
       "      <td>1</td>\n",
       "    </tr>\n",
       "    <tr>\n",
       "      <th>13828</th>\n",
       "      <td>11196#10#0</td>\n",
       "      <td>1</td>\n",
       "      <td>10</td>\n",
       "      <td>1</td>\n",
       "      <td>1</td>\n",
       "    </tr>\n",
       "    <tr>\n",
       "      <th>5812</th>\n",
       "      <td>3982#2#0</td>\n",
       "      <td>-1</td>\n",
       "      <td>2</td>\n",
       "      <td>1</td>\n",
       "      <td>1</td>\n",
       "    </tr>\n",
       "    <tr>\n",
       "      <th>24549</th>\n",
       "      <td>9596#10#0</td>\n",
       "      <td>1</td>\n",
       "      <td>10</td>\n",
       "      <td>1</td>\n",
       "      <td>1</td>\n",
       "    </tr>\n",
       "  </tbody>\n",
       "</table>\n",
       "<p>2497 rows × 5 columns</p>\n",
       "</div>"
      ],
      "text/plain": [
       "               id  expected  rating  predicted-model  predicted-direct\n",
       "22002   7302#10#0         1      10                1                 0\n",
       "8128     6066#4#0         0       4                1                 1\n",
       "20783    6205#9#0         1       9                1                 1\n",
       "13097  10538#10#0         1      10                1                 1\n",
       "2912     1371#1#0        -1       1                1                 1\n",
       "11198     882#2#0        -1       2                1                 1\n",
       "8773     6647#1#0        -1       1                1                 1\n",
       "5749     3925#2#0        -1       2                0                 0\n",
       "558     10502#1#0        -1       1                1                 1\n",
       "13138  10575#10#0         1      10                1                 1\n",
       "4143      247#2#0        -1       2                1                -1\n",
       "10136    7874#1#0        -1       1                1                -1\n",
       "6857     4922#1#0        -1       1                0                 1\n",
       "17799    351#10#0         1      10                1                 1\n",
       "3542     1939#2#0        -1       2                1                 1\n",
       "15279   1251#10#0         1      10                1                 1\n",
       "3079     1521#1#0        -1       1                1                 1\n",
       "8254      617#4#0         0       4                1                 1\n",
       "12945   10400#9#0         1       9                1                 1\n",
       "17249    3024#7#0         1       7                1                 1\n",
       "11403    9013#2#0        -1       2                1                -1\n",
       "3341     1758#2#0        -1       2                1                 1\n",
       "1356    11220#1#0        -1       1                1                 1\n",
       "24840   9858#10#0         1      10                1                 1\n",
       "24565     960#8#0         1       8                1                 1\n",
       "22158    7443#8#0         1       8                1                 1\n",
       "16504    2354#8#0         1       8                1                 1\n",
       "24145    9231#8#0         1       8                0                -1\n",
       "11081    8724#1#0        -1       1                0                -1\n",
       "19776    529#10#0         1      10                1                 1\n",
       "...           ...       ...     ...              ...               ...\n",
       "4685     2968#1#0        -1       1                1                 1\n",
       "24364    9429#7#0         1       7                1                -1\n",
       "3999      234#3#0        -1       3                1                 1\n",
       "10246    7973#4#0         0       4                1                 1\n",
       "23123    8311#8#0         1       8                1                 1\n",
       "20084    5577#9#0         1       9                1                 1\n",
       "15167   12400#8#0         1       8               -1                 0\n",
       "9946     7702#2#0        -1       2                1                 1\n",
       "19312    4882#9#0         1       9               -1                -1\n",
       "24342   9409#10#0         1      10                1                 1\n",
       "12406    9917#2#0        -1       2                1                 1\n",
       "15709   1639#10#0         1      10                1                 1\n",
       "11685    9268#2#0        -1       2                1                 1\n",
       "4377     2690#1#0        -1       1                1                 1\n",
       "15953   1859#10#0         1      10                1                 1\n",
       "9756     7531#1#0        -1       1                1                 1\n",
       "7945     5901#3#0        -1       3                1                 1\n",
       "4797     3068#3#0        -1       3                1                 1\n",
       "16016    1915#8#0         1       8                1                 1\n",
       "13356   10771#8#0         1       8                1                 1\n",
       "9820      758#3#0        -1       3                1                -1\n",
       "19677    520#10#0         1      10                1                 1\n",
       "15096   12337#9#0         1       9                1                 1\n",
       "21773   7097#10#0         1      10                1                 1\n",
       "8383     6296#1#0        -1       1                1                -1\n",
       "10707    8388#1#0        -1       1                0                -1\n",
       "935     10842#1#0        -1       1                1                 1\n",
       "13828  11196#10#0         1      10                1                 1\n",
       "5812     3982#2#0        -1       2                1                 1\n",
       "24549   9596#10#0         1      10                1                 1\n",
       "\n",
       "[2497 rows x 5 columns]"
      ]
     },
     "execution_count": 188,
     "metadata": {},
     "output_type": "execute_result"
    }
   ],
   "source": [
    "test_reviews    "
   ]
  },
  {
   "cell_type": "code",
   "execution_count": 208,
   "metadata": {
    "collapsed": false
   },
   "outputs": [
    {
     "name": "stdout",
     "output_type": "stream",
     "text": [
      "Done\n"
     ]
    }
   ],
   "source": [
    "sentencesTestSubset = sentencesTestSubset.apply(lambda row: directClassification(row, 'priorpolarityCountpositive', 'priorpolarityCountnegative', 'direct' ), axis = 1)\n",
    "test_reviews_even['predicted-direct'] = test_reviews_even['id'].map(lambda cell: calculateSentimentReview(cell, sentencesTestSubset, 'apriori-class-direct'))\n",
    "print(\"Done\")"
   ]
  },
  {
   "cell_type": "code",
   "execution_count": 211,
   "metadata": {
    "collapsed": false
   },
   "outputs": [
    {
     "name": "stdout",
     "output_type": "stream",
     "text": [
      "Direct model: 0.528846153846\n",
      "Trained model: 0.493189102564\n"
     ]
    }
   ],
   "source": [
    "print(\"Direct model: {}\".format(calculateAccuracy(test_reviews_even, 'predicted-direct', 'expected')))\n",
    "print(\"Trained model: {}\".format(calculateAccuracy(test_reviews_even, 'predicted-model', 'expected')))"
   ]
  },
  {
   "cell_type": "code",
   "execution_count": null,
   "metadata": {
    "collapsed": true
   },
   "outputs": [],
   "source": []
  },
  {
   "cell_type": "code",
   "execution_count": 145,
   "metadata": {
    "collapsed": false
   },
   "outputs": [
    {
     "data": {
      "text/plain": [
       "1     643\n",
       "10    584\n",
       "8     360\n",
       "3     300\n",
       "9     293\n",
       "4     283\n",
       "2     274\n",
       "7     263\n",
       "Name: rating, dtype: int64"
      ]
     },
     "execution_count": 145,
     "metadata": {},
     "output_type": "execute_result"
    }
   ],
   "source": [
    "expected_classes_test['rating'].value_counts()"
   ]
  },
  {
   "cell_type": "code",
   "execution_count": null,
   "metadata": {
    "collapsed": true
   },
   "outputs": [],
   "source": []
  }
 ],
 "metadata": {
  "kernelspec": {
   "display_name": "Python 2",
   "language": "python",
   "name": "python2"
  },
  "language_info": {
   "codemirror_mode": {
    "name": "ipython",
    "version": 2
   },
   "file_extension": ".py",
   "mimetype": "text/x-python",
   "name": "python",
   "nbconvert_exporter": "python",
   "pygments_lexer": "ipython2",
   "version": "2.7.11"
  }
 },
 "nbformat": 4,
 "nbformat_minor": 0
}
